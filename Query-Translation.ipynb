{
  "cells": [
    {
      "cell_type": "markdown",
      "id": "8d2441db-0ad8-40f2-b042-6bb96f184711",
      "metadata": {
        "id": "8d2441db-0ad8-40f2-b042-6bb96f184711"
      },
      "source": [
        "# Rag From Scratch: Query Transformations\n",
        "\n",
        "Query transformations are a set of approaches focused on re-writing and / or modifying questions for retrieval.\n",
        "\n",
        ":\n",
        "\n",
        "## Enviornment\n",
        "\n",
        "`(1) Packages`"
      ]
    },
    {
      "cell_type": "code",
      "execution_count": 2,
      "id": "df89be8f-2c49-4f4f-9503-2bff0b08a67a",
      "metadata": {
        "colab": {
          "base_uri": "https://localhost:8080/",
          "height": 1000
        },
        "id": "df89be8f-2c49-4f4f-9503-2bff0b08a67a",
        "outputId": "96fbb3ae-d368-4bd5-c11c-ce3652a624ee"
      },
      "outputs": [
        {
          "output_type": "stream",
          "name": "stdout",
          "text": [
            "Collecting langchain_community\n",
            "  Downloading langchain_community-0.3.26-py3-none-any.whl.metadata (2.9 kB)\n",
            "Requirement already satisfied: tiktoken in /usr/local/lib/python3.11/dist-packages (0.9.0)\n",
            "Collecting langchain-google-genai\n",
            "  Downloading langchain_google_genai-2.1.5-py3-none-any.whl.metadata (5.2 kB)\n",
            "Collecting langchainhub\n",
            "  Downloading langchainhub-0.1.21-py3-none-any.whl.metadata (659 bytes)\n",
            "Collecting chromadb\n",
            "  Downloading chromadb-1.0.13-cp39-abi3-manylinux_2_17_x86_64.manylinux2014_x86_64.whl.metadata (7.0 kB)\n",
            "Requirement already satisfied: langchain in /usr/local/lib/python3.11/dist-packages (0.3.26)\n",
            "Requirement already satisfied: langchain-core<1.0.0,>=0.3.66 in /usr/local/lib/python3.11/dist-packages (from langchain_community) (0.3.66)\n",
            "Requirement already satisfied: SQLAlchemy<3,>=1.4 in /usr/local/lib/python3.11/dist-packages (from langchain_community) (2.0.41)\n",
            "Requirement already satisfied: requests<3,>=2 in /usr/local/lib/python3.11/dist-packages (from langchain_community) (2.32.3)\n",
            "Requirement already satisfied: PyYAML>=5.3 in /usr/local/lib/python3.11/dist-packages (from langchain_community) (6.0.2)\n",
            "Requirement already satisfied: aiohttp<4.0.0,>=3.8.3 in /usr/local/lib/python3.11/dist-packages (from langchain_community) (3.11.15)\n",
            "Requirement already satisfied: tenacity!=8.4.0,<10,>=8.1.0 in /usr/local/lib/python3.11/dist-packages (from langchain_community) (8.5.0)\n",
            "Collecting dataclasses-json<0.7,>=0.5.7 (from langchain_community)\n",
            "  Downloading dataclasses_json-0.6.7-py3-none-any.whl.metadata (25 kB)\n",
            "Collecting pydantic-settings<3.0.0,>=2.4.0 (from langchain_community)\n",
            "  Downloading pydantic_settings-2.10.1-py3-none-any.whl.metadata (3.4 kB)\n",
            "Requirement already satisfied: langsmith>=0.1.125 in /usr/local/lib/python3.11/dist-packages (from langchain_community) (0.4.1)\n",
            "Collecting httpx-sse<1.0.0,>=0.4.0 (from langchain_community)\n",
            "  Downloading httpx_sse-0.4.1-py3-none-any.whl.metadata (9.4 kB)\n",
            "Requirement already satisfied: numpy>=1.26.2 in /usr/local/lib/python3.11/dist-packages (from langchain_community) (2.0.2)\n",
            "Requirement already satisfied: regex>=2022.1.18 in /usr/local/lib/python3.11/dist-packages (from tiktoken) (2024.11.6)\n",
            "Collecting filetype<2.0.0,>=1.2.0 (from langchain-google-genai)\n",
            "  Downloading filetype-1.2.0-py2.py3-none-any.whl.metadata (6.5 kB)\n",
            "Collecting google-ai-generativelanguage<0.7.0,>=0.6.18 (from langchain-google-genai)\n",
            "  Downloading google_ai_generativelanguage-0.6.18-py3-none-any.whl.metadata (9.8 kB)\n",
            "Requirement already satisfied: pydantic<3,>=2 in /usr/local/lib/python3.11/dist-packages (from langchain-google-genai) (2.11.7)\n",
            "Requirement already satisfied: packaging<25,>=23.2 in /usr/local/lib/python3.11/dist-packages (from langchainhub) (24.2)\n",
            "Collecting types-requests<3.0.0.0,>=2.31.0.2 (from langchainhub)\n",
            "  Downloading types_requests-2.32.4.20250611-py3-none-any.whl.metadata (2.1 kB)\n",
            "Requirement already satisfied: build>=1.0.3 in /usr/local/lib/python3.11/dist-packages (from chromadb) (1.2.2.post1)\n",
            "Collecting pybase64>=1.4.1 (from chromadb)\n",
            "  Downloading pybase64-1.4.1-cp311-cp311-manylinux_2_5_x86_64.manylinux1_x86_64.manylinux_2_17_x86_64.manylinux2014_x86_64.whl.metadata (8.4 kB)\n",
            "Requirement already satisfied: uvicorn>=0.18.3 in /usr/local/lib/python3.11/dist-packages (from uvicorn[standard]>=0.18.3->chromadb) (0.34.3)\n",
            "Collecting posthog>=2.4.0 (from chromadb)\n",
            "  Downloading posthog-6.0.0-py3-none-any.whl.metadata (6.0 kB)\n",
            "Requirement already satisfied: typing-extensions>=4.5.0 in /usr/local/lib/python3.11/dist-packages (from chromadb) (4.14.0)\n",
            "Collecting onnxruntime>=1.14.1 (from chromadb)\n",
            "  Downloading onnxruntime-1.22.0-cp311-cp311-manylinux_2_27_x86_64.manylinux_2_28_x86_64.whl.metadata (4.5 kB)\n",
            "Collecting opentelemetry-api>=1.2.0 (from chromadb)\n",
            "  Downloading opentelemetry_api-1.34.1-py3-none-any.whl.metadata (1.5 kB)\n",
            "Collecting opentelemetry-exporter-otlp-proto-grpc>=1.2.0 (from chromadb)\n",
            "  Downloading opentelemetry_exporter_otlp_proto_grpc-1.34.1-py3-none-any.whl.metadata (2.4 kB)\n",
            "Collecting opentelemetry-sdk>=1.2.0 (from chromadb)\n",
            "  Downloading opentelemetry_sdk-1.34.1-py3-none-any.whl.metadata (1.6 kB)\n",
            "Requirement already satisfied: tokenizers>=0.13.2 in /usr/local/lib/python3.11/dist-packages (from chromadb) (0.21.2)\n",
            "Collecting pypika>=0.48.9 (from chromadb)\n",
            "  Downloading PyPika-0.48.9.tar.gz (67 kB)\n",
            "\u001b[2K     \u001b[90m━━━━━━━━━━━━━━━━━━━━━━━━━━━━━━━━━━━━━━━━\u001b[0m \u001b[32m67.3/67.3 kB\u001b[0m \u001b[31m2.8 MB/s\u001b[0m eta \u001b[36m0:00:00\u001b[0m\n",
            "\u001b[?25h  Installing build dependencies ... \u001b[?25l\u001b[?25hdone\n",
            "  Getting requirements to build wheel ... \u001b[?25l\u001b[?25hdone\n",
            "  Preparing metadata (pyproject.toml) ... \u001b[?25l\u001b[?25hdone\n",
            "Requirement already satisfied: tqdm>=4.65.0 in /usr/local/lib/python3.11/dist-packages (from chromadb) (4.67.1)\n",
            "Collecting overrides>=7.3.1 (from chromadb)\n",
            "  Downloading overrides-7.7.0-py3-none-any.whl.metadata (5.8 kB)\n",
            "Requirement already satisfied: importlib-resources in /usr/local/lib/python3.11/dist-packages (from chromadb) (6.5.2)\n",
            "Requirement already satisfied: grpcio>=1.58.0 in /usr/local/lib/python3.11/dist-packages (from chromadb) (1.73.0)\n",
            "Collecting bcrypt>=4.0.1 (from chromadb)\n",
            "  Downloading bcrypt-4.3.0-cp39-abi3-manylinux_2_34_x86_64.whl.metadata (10 kB)\n",
            "Requirement already satisfied: typer>=0.9.0 in /usr/local/lib/python3.11/dist-packages (from chromadb) (0.16.0)\n",
            "Collecting kubernetes>=28.1.0 (from chromadb)\n",
            "  Downloading kubernetes-33.1.0-py2.py3-none-any.whl.metadata (1.7 kB)\n",
            "Collecting mmh3>=4.0.1 (from chromadb)\n",
            "  Downloading mmh3-5.1.0-cp311-cp311-manylinux_2_5_x86_64.manylinux1_x86_64.manylinux_2_17_x86_64.manylinux2014_x86_64.whl.metadata (16 kB)\n",
            "Requirement already satisfied: orjson>=3.9.12 in /usr/local/lib/python3.11/dist-packages (from chromadb) (3.10.18)\n",
            "Requirement already satisfied: httpx>=0.27.0 in /usr/local/lib/python3.11/dist-packages (from chromadb) (0.28.1)\n",
            "Requirement already satisfied: rich>=10.11.0 in /usr/local/lib/python3.11/dist-packages (from chromadb) (13.9.4)\n",
            "Requirement already satisfied: jsonschema>=4.19.0 in /usr/local/lib/python3.11/dist-packages (from chromadb) (4.24.0)\n",
            "Requirement already satisfied: langchain-text-splitters<1.0.0,>=0.3.8 in /usr/local/lib/python3.11/dist-packages (from langchain) (0.3.8)\n",
            "Requirement already satisfied: aiohappyeyeballs>=2.3.0 in /usr/local/lib/python3.11/dist-packages (from aiohttp<4.0.0,>=3.8.3->langchain_community) (2.6.1)\n",
            "Requirement already satisfied: aiosignal>=1.1.2 in /usr/local/lib/python3.11/dist-packages (from aiohttp<4.0.0,>=3.8.3->langchain_community) (1.3.2)\n",
            "Requirement already satisfied: attrs>=17.3.0 in /usr/local/lib/python3.11/dist-packages (from aiohttp<4.0.0,>=3.8.3->langchain_community) (25.3.0)\n",
            "Requirement already satisfied: frozenlist>=1.1.1 in /usr/local/lib/python3.11/dist-packages (from aiohttp<4.0.0,>=3.8.3->langchain_community) (1.7.0)\n",
            "Requirement already satisfied: multidict<7.0,>=4.5 in /usr/local/lib/python3.11/dist-packages (from aiohttp<4.0.0,>=3.8.3->langchain_community) (6.4.4)\n",
            "Requirement already satisfied: propcache>=0.2.0 in /usr/local/lib/python3.11/dist-packages (from aiohttp<4.0.0,>=3.8.3->langchain_community) (0.3.2)\n",
            "Requirement already satisfied: yarl<2.0,>=1.17.0 in /usr/local/lib/python3.11/dist-packages (from aiohttp<4.0.0,>=3.8.3->langchain_community) (1.20.1)\n",
            "Requirement already satisfied: pyproject_hooks in /usr/local/lib/python3.11/dist-packages (from build>=1.0.3->chromadb) (1.2.0)\n",
            "Collecting marshmallow<4.0.0,>=3.18.0 (from dataclasses-json<0.7,>=0.5.7->langchain_community)\n",
            "  Downloading marshmallow-3.26.1-py3-none-any.whl.metadata (7.3 kB)\n",
            "Collecting typing-inspect<1,>=0.4.0 (from dataclasses-json<0.7,>=0.5.7->langchain_community)\n",
            "  Downloading typing_inspect-0.9.0-py3-none-any.whl.metadata (1.5 kB)\n",
            "Requirement already satisfied: google-api-core!=2.0.*,!=2.1.*,!=2.10.*,!=2.2.*,!=2.3.*,!=2.4.*,!=2.5.*,!=2.6.*,!=2.7.*,!=2.8.*,!=2.9.*,<3.0.0,>=1.34.1 in /usr/local/lib/python3.11/dist-packages (from google-api-core[grpc]!=2.0.*,!=2.1.*,!=2.10.*,!=2.2.*,!=2.3.*,!=2.4.*,!=2.5.*,!=2.6.*,!=2.7.*,!=2.8.*,!=2.9.*,<3.0.0,>=1.34.1->google-ai-generativelanguage<0.7.0,>=0.6.18->langchain-google-genai) (2.25.1)\n",
            "Requirement already satisfied: google-auth!=2.24.0,!=2.25.0,<3.0.0,>=2.14.1 in /usr/local/lib/python3.11/dist-packages (from google-ai-generativelanguage<0.7.0,>=0.6.18->langchain-google-genai) (2.38.0)\n",
            "Requirement already satisfied: proto-plus<2.0.0,>=1.22.3 in /usr/local/lib/python3.11/dist-packages (from google-ai-generativelanguage<0.7.0,>=0.6.18->langchain-google-genai) (1.26.1)\n",
            "Requirement already satisfied: protobuf!=4.21.0,!=4.21.1,!=4.21.2,!=4.21.3,!=4.21.4,!=4.21.5,<7.0.0,>=3.20.2 in /usr/local/lib/python3.11/dist-packages (from google-ai-generativelanguage<0.7.0,>=0.6.18->langchain-google-genai) (5.29.5)\n",
            "Requirement already satisfied: anyio in /usr/local/lib/python3.11/dist-packages (from httpx>=0.27.0->chromadb) (4.9.0)\n",
            "Requirement already satisfied: certifi in /usr/local/lib/python3.11/dist-packages (from httpx>=0.27.0->chromadb) (2025.6.15)\n",
            "Requirement already satisfied: httpcore==1.* in /usr/local/lib/python3.11/dist-packages (from httpx>=0.27.0->chromadb) (1.0.9)\n",
            "Requirement already satisfied: idna in /usr/local/lib/python3.11/dist-packages (from httpx>=0.27.0->chromadb) (3.10)\n",
            "Requirement already satisfied: h11>=0.16 in /usr/local/lib/python3.11/dist-packages (from httpcore==1.*->httpx>=0.27.0->chromadb) (0.16.0)\n",
            "Requirement already satisfied: jsonschema-specifications>=2023.03.6 in /usr/local/lib/python3.11/dist-packages (from jsonschema>=4.19.0->chromadb) (2025.4.1)\n",
            "Requirement already satisfied: referencing>=0.28.4 in /usr/local/lib/python3.11/dist-packages (from jsonschema>=4.19.0->chromadb) (0.36.2)\n",
            "Requirement already satisfied: rpds-py>=0.7.1 in /usr/local/lib/python3.11/dist-packages (from jsonschema>=4.19.0->chromadb) (0.25.1)\n",
            "Requirement already satisfied: six>=1.9.0 in /usr/local/lib/python3.11/dist-packages (from kubernetes>=28.1.0->chromadb) (1.17.0)\n",
            "Requirement already satisfied: python-dateutil>=2.5.3 in /usr/local/lib/python3.11/dist-packages (from kubernetes>=28.1.0->chromadb) (2.9.0.post0)\n",
            "Requirement already satisfied: websocket-client!=0.40.0,!=0.41.*,!=0.42.*,>=0.32.0 in /usr/local/lib/python3.11/dist-packages (from kubernetes>=28.1.0->chromadb) (1.8.0)\n",
            "Requirement already satisfied: requests-oauthlib in /usr/local/lib/python3.11/dist-packages (from kubernetes>=28.1.0->chromadb) (2.0.0)\n",
            "Requirement already satisfied: oauthlib>=3.2.2 in /usr/local/lib/python3.11/dist-packages (from kubernetes>=28.1.0->chromadb) (3.3.1)\n",
            "Requirement already satisfied: urllib3>=1.24.2 in /usr/local/lib/python3.11/dist-packages (from kubernetes>=28.1.0->chromadb) (2.4.0)\n",
            "Collecting durationpy>=0.7 (from kubernetes>=28.1.0->chromadb)\n",
            "  Downloading durationpy-0.10-py3-none-any.whl.metadata (340 bytes)\n",
            "Requirement already satisfied: jsonpatch<2.0,>=1.33 in /usr/local/lib/python3.11/dist-packages (from langchain-core<1.0.0,>=0.3.66->langchain_community) (1.33)\n",
            "Requirement already satisfied: requests-toolbelt<2.0.0,>=1.0.0 in /usr/local/lib/python3.11/dist-packages (from langsmith>=0.1.125->langchain_community) (1.0.0)\n",
            "Requirement already satisfied: zstandard<0.24.0,>=0.23.0 in /usr/local/lib/python3.11/dist-packages (from langsmith>=0.1.125->langchain_community) (0.23.0)\n",
            "Collecting coloredlogs (from onnxruntime>=1.14.1->chromadb)\n",
            "  Downloading coloredlogs-15.0.1-py2.py3-none-any.whl.metadata (12 kB)\n",
            "Requirement already satisfied: flatbuffers in /usr/local/lib/python3.11/dist-packages (from onnxruntime>=1.14.1->chromadb) (25.2.10)\n",
            "Requirement already satisfied: sympy in /usr/local/lib/python3.11/dist-packages (from onnxruntime>=1.14.1->chromadb) (1.13.1)\n",
            "Requirement already satisfied: importlib-metadata<8.8.0,>=6.0 in /usr/local/lib/python3.11/dist-packages (from opentelemetry-api>=1.2.0->chromadb) (8.7.0)\n",
            "Requirement already satisfied: googleapis-common-protos~=1.52 in /usr/local/lib/python3.11/dist-packages (from opentelemetry-exporter-otlp-proto-grpc>=1.2.0->chromadb) (1.70.0)\n",
            "Collecting opentelemetry-exporter-otlp-proto-common==1.34.1 (from opentelemetry-exporter-otlp-proto-grpc>=1.2.0->chromadb)\n",
            "  Downloading opentelemetry_exporter_otlp_proto_common-1.34.1-py3-none-any.whl.metadata (1.9 kB)\n",
            "Collecting opentelemetry-proto==1.34.1 (from opentelemetry-exporter-otlp-proto-grpc>=1.2.0->chromadb)\n",
            "  Downloading opentelemetry_proto-1.34.1-py3-none-any.whl.metadata (2.4 kB)\n",
            "Collecting opentelemetry-semantic-conventions==0.55b1 (from opentelemetry-sdk>=1.2.0->chromadb)\n",
            "  Downloading opentelemetry_semantic_conventions-0.55b1-py3-none-any.whl.metadata (2.5 kB)\n",
            "Collecting backoff>=1.10.0 (from posthog>=2.4.0->chromadb)\n",
            "  Downloading backoff-2.2.1-py3-none-any.whl.metadata (14 kB)\n",
            "Requirement already satisfied: distro>=1.5.0 in /usr/local/lib/python3.11/dist-packages (from posthog>=2.4.0->chromadb) (1.9.0)\n",
            "Requirement already satisfied: annotated-types>=0.6.0 in /usr/local/lib/python3.11/dist-packages (from pydantic<3,>=2->langchain-google-genai) (0.7.0)\n",
            "Requirement already satisfied: pydantic-core==2.33.2 in /usr/local/lib/python3.11/dist-packages (from pydantic<3,>=2->langchain-google-genai) (2.33.2)\n",
            "Requirement already satisfied: typing-inspection>=0.4.0 in /usr/local/lib/python3.11/dist-packages (from pydantic<3,>=2->langchain-google-genai) (0.4.1)\n",
            "Collecting python-dotenv>=0.21.0 (from pydantic-settings<3.0.0,>=2.4.0->langchain_community)\n",
            "  Downloading python_dotenv-1.1.1-py3-none-any.whl.metadata (24 kB)\n",
            "Requirement already satisfied: charset-normalizer<4,>=2 in /usr/local/lib/python3.11/dist-packages (from requests<3,>=2->langchain_community) (3.4.2)\n",
            "Requirement already satisfied: markdown-it-py>=2.2.0 in /usr/local/lib/python3.11/dist-packages (from rich>=10.11.0->chromadb) (3.0.0)\n",
            "Requirement already satisfied: pygments<3.0.0,>=2.13.0 in /usr/local/lib/python3.11/dist-packages (from rich>=10.11.0->chromadb) (2.19.2)\n",
            "Requirement already satisfied: greenlet>=1 in /usr/local/lib/python3.11/dist-packages (from SQLAlchemy<3,>=1.4->langchain_community) (3.2.3)\n",
            "Requirement already satisfied: huggingface-hub<1.0,>=0.16.4 in /usr/local/lib/python3.11/dist-packages (from tokenizers>=0.13.2->chromadb) (0.33.0)\n",
            "Requirement already satisfied: click>=8.0.0 in /usr/local/lib/python3.11/dist-packages (from typer>=0.9.0->chromadb) (8.2.1)\n",
            "Requirement already satisfied: shellingham>=1.3.0 in /usr/local/lib/python3.11/dist-packages (from typer>=0.9.0->chromadb) (1.5.4)\n",
            "Collecting httptools>=0.6.3 (from uvicorn[standard]>=0.18.3->chromadb)\n",
            "  Downloading httptools-0.6.4-cp311-cp311-manylinux_2_5_x86_64.manylinux1_x86_64.manylinux_2_17_x86_64.manylinux2014_x86_64.whl.metadata (3.6 kB)\n",
            "Collecting uvloop>=0.15.1 (from uvicorn[standard]>=0.18.3->chromadb)\n",
            "  Downloading uvloop-0.21.0-cp311-cp311-manylinux_2_17_x86_64.manylinux2014_x86_64.whl.metadata (4.9 kB)\n",
            "Collecting watchfiles>=0.13 (from uvicorn[standard]>=0.18.3->chromadb)\n",
            "  Downloading watchfiles-1.1.0-cp311-cp311-manylinux_2_17_x86_64.manylinux2014_x86_64.whl.metadata (4.9 kB)\n",
            "Requirement already satisfied: websockets>=10.4 in /usr/local/lib/python3.11/dist-packages (from uvicorn[standard]>=0.18.3->chromadb) (15.0.1)\n",
            "Requirement already satisfied: grpcio-status<2.0.0,>=1.33.2 in /usr/local/lib/python3.11/dist-packages (from google-api-core[grpc]!=2.0.*,!=2.1.*,!=2.10.*,!=2.2.*,!=2.3.*,!=2.4.*,!=2.5.*,!=2.6.*,!=2.7.*,!=2.8.*,!=2.9.*,<3.0.0,>=1.34.1->google-ai-generativelanguage<0.7.0,>=0.6.18->langchain-google-genai) (1.71.0)\n",
            "Requirement already satisfied: cachetools<6.0,>=2.0.0 in /usr/local/lib/python3.11/dist-packages (from google-auth!=2.24.0,!=2.25.0,<3.0.0,>=2.14.1->google-ai-generativelanguage<0.7.0,>=0.6.18->langchain-google-genai) (5.5.2)\n",
            "Requirement already satisfied: pyasn1-modules>=0.2.1 in /usr/local/lib/python3.11/dist-packages (from google-auth!=2.24.0,!=2.25.0,<3.0.0,>=2.14.1->google-ai-generativelanguage<0.7.0,>=0.6.18->langchain-google-genai) (0.4.2)\n",
            "Requirement already satisfied: rsa<5,>=3.1.4 in /usr/local/lib/python3.11/dist-packages (from google-auth!=2.24.0,!=2.25.0,<3.0.0,>=2.14.1->google-ai-generativelanguage<0.7.0,>=0.6.18->langchain-google-genai) (4.9.1)\n",
            "Requirement already satisfied: filelock in /usr/local/lib/python3.11/dist-packages (from huggingface-hub<1.0,>=0.16.4->tokenizers>=0.13.2->chromadb) (3.18.0)\n",
            "Requirement already satisfied: fsspec>=2023.5.0 in /usr/local/lib/python3.11/dist-packages (from huggingface-hub<1.0,>=0.16.4->tokenizers>=0.13.2->chromadb) (2025.3.2)\n",
            "Requirement already satisfied: hf-xet<2.0.0,>=1.1.2 in /usr/local/lib/python3.11/dist-packages (from huggingface-hub<1.0,>=0.16.4->tokenizers>=0.13.2->chromadb) (1.1.5)\n",
            "Requirement already satisfied: zipp>=3.20 in /usr/local/lib/python3.11/dist-packages (from importlib-metadata<8.8.0,>=6.0->opentelemetry-api>=1.2.0->chromadb) (3.23.0)\n",
            "Requirement already satisfied: jsonpointer>=1.9 in /usr/local/lib/python3.11/dist-packages (from jsonpatch<2.0,>=1.33->langchain-core<1.0.0,>=0.3.66->langchain_community) (3.0.0)\n",
            "Requirement already satisfied: mdurl~=0.1 in /usr/local/lib/python3.11/dist-packages (from markdown-it-py>=2.2.0->rich>=10.11.0->chromadb) (0.1.2)\n",
            "Collecting mypy-extensions>=0.3.0 (from typing-inspect<1,>=0.4.0->dataclasses-json<0.7,>=0.5.7->langchain_community)\n",
            "  Downloading mypy_extensions-1.1.0-py3-none-any.whl.metadata (1.1 kB)\n",
            "Requirement already satisfied: sniffio>=1.1 in /usr/local/lib/python3.11/dist-packages (from anyio->httpx>=0.27.0->chromadb) (1.3.1)\n",
            "Collecting humanfriendly>=9.1 (from coloredlogs->onnxruntime>=1.14.1->chromadb)\n",
            "  Downloading humanfriendly-10.0-py2.py3-none-any.whl.metadata (9.2 kB)\n",
            "Requirement already satisfied: mpmath<1.4,>=1.1.0 in /usr/local/lib/python3.11/dist-packages (from sympy->onnxruntime>=1.14.1->chromadb) (1.3.0)\n",
            "Requirement already satisfied: pyasn1<0.7.0,>=0.6.1 in /usr/local/lib/python3.11/dist-packages (from pyasn1-modules>=0.2.1->google-auth!=2.24.0,!=2.25.0,<3.0.0,>=2.14.1->google-ai-generativelanguage<0.7.0,>=0.6.18->langchain-google-genai) (0.6.1)\n",
            "Downloading langchain_community-0.3.26-py3-none-any.whl (2.5 MB)\n",
            "\u001b[2K   \u001b[90m━━━━━━━━━━━━━━━━━━━━━━━━━━━━━━━━━━━━━━━━\u001b[0m \u001b[32m2.5/2.5 MB\u001b[0m \u001b[31m30.4 MB/s\u001b[0m eta \u001b[36m0:00:00\u001b[0m\n",
            "\u001b[?25hDownloading langchain_google_genai-2.1.5-py3-none-any.whl (44 kB)\n",
            "\u001b[2K   \u001b[90m━━━━━━━━━━━━━━━━━━━━━━━━━━━━━━━━━━━━━━━━\u001b[0m \u001b[32m44.8/44.8 kB\u001b[0m \u001b[31m4.4 MB/s\u001b[0m eta \u001b[36m0:00:00\u001b[0m\n",
            "\u001b[?25hDownloading langchainhub-0.1.21-py3-none-any.whl (5.2 kB)\n",
            "Downloading chromadb-1.0.13-cp39-abi3-manylinux_2_17_x86_64.manylinux2014_x86_64.whl (19.3 MB)\n",
            "\u001b[2K   \u001b[90m━━━━━━━━━━━━━━━━━━━━━━━━━━━━━━━━━━━━━━━━\u001b[0m \u001b[32m19.3/19.3 MB\u001b[0m \u001b[31m91.2 MB/s\u001b[0m eta \u001b[36m0:00:00\u001b[0m\n",
            "\u001b[?25hDownloading bcrypt-4.3.0-cp39-abi3-manylinux_2_34_x86_64.whl (284 kB)\n",
            "\u001b[2K   \u001b[90m━━━━━━━━━━━━━━━━━━━━━━━━━━━━━━━━━━━━━━━━\u001b[0m \u001b[32m284.2/284.2 kB\u001b[0m \u001b[31m23.8 MB/s\u001b[0m eta \u001b[36m0:00:00\u001b[0m\n",
            "\u001b[?25hDownloading dataclasses_json-0.6.7-py3-none-any.whl (28 kB)\n",
            "Downloading filetype-1.2.0-py2.py3-none-any.whl (19 kB)\n",
            "Downloading google_ai_generativelanguage-0.6.18-py3-none-any.whl (1.4 MB)\n",
            "\u001b[2K   \u001b[90m━━━━━━━━━━━━━━━━━━━━━━━━━━━━━━━━━━━━━━━━\u001b[0m \u001b[32m1.4/1.4 MB\u001b[0m \u001b[31m71.5 MB/s\u001b[0m eta \u001b[36m0:00:00\u001b[0m\n",
            "\u001b[?25hDownloading httpx_sse-0.4.1-py3-none-any.whl (8.1 kB)\n",
            "Downloading kubernetes-33.1.0-py2.py3-none-any.whl (1.9 MB)\n",
            "\u001b[2K   \u001b[90m━━━━━━━━━━━━━━━━━━━━━━━━━━━━━━━━━━━━━━━━\u001b[0m \u001b[32m1.9/1.9 MB\u001b[0m \u001b[31m83.3 MB/s\u001b[0m eta \u001b[36m0:00:00\u001b[0m\n",
            "\u001b[?25hDownloading mmh3-5.1.0-cp311-cp311-manylinux_2_5_x86_64.manylinux1_x86_64.manylinux_2_17_x86_64.manylinux2014_x86_64.whl (101 kB)\n",
            "\u001b[2K   \u001b[90m━━━━━━━━━━━━━━━━━━━━━━━━━━━━━━━━━━━━━━━━\u001b[0m \u001b[32m101.6/101.6 kB\u001b[0m \u001b[31m10.3 MB/s\u001b[0m eta \u001b[36m0:00:00\u001b[0m\n",
            "\u001b[?25hDownloading onnxruntime-1.22.0-cp311-cp311-manylinux_2_27_x86_64.manylinux_2_28_x86_64.whl (16.4 MB)\n",
            "\u001b[2K   \u001b[90m━━━━━━━━━━━━━━━━━━━━━━━━━━━━━━━━━━━━━━━━\u001b[0m \u001b[32m16.4/16.4 MB\u001b[0m \u001b[31m85.6 MB/s\u001b[0m eta \u001b[36m0:00:00\u001b[0m\n",
            "\u001b[?25hDownloading opentelemetry_api-1.34.1-py3-none-any.whl (65 kB)\n",
            "\u001b[2K   \u001b[90m━━━━━━━━━━━━━━━━━━━━━━━━━━━━━━━━━━━━━━━━\u001b[0m \u001b[32m65.8/65.8 kB\u001b[0m \u001b[31m6.3 MB/s\u001b[0m eta \u001b[36m0:00:00\u001b[0m\n",
            "\u001b[?25hDownloading opentelemetry_exporter_otlp_proto_grpc-1.34.1-py3-none-any.whl (18 kB)\n",
            "Downloading opentelemetry_exporter_otlp_proto_common-1.34.1-py3-none-any.whl (18 kB)\n",
            "Downloading opentelemetry_proto-1.34.1-py3-none-any.whl (55 kB)\n",
            "\u001b[2K   \u001b[90m━━━━━━━━━━━━━━━━━━━━━━━━━━━━━━━━━━━━━━━━\u001b[0m \u001b[32m55.7/55.7 kB\u001b[0m \u001b[31m5.5 MB/s\u001b[0m eta \u001b[36m0:00:00\u001b[0m\n",
            "\u001b[?25hDownloading opentelemetry_sdk-1.34.1-py3-none-any.whl (118 kB)\n",
            "\u001b[2K   \u001b[90m━━━━━━━━━━━━━━━━━━━━━━━━━━━━━━━━━━━━━━━━\u001b[0m \u001b[32m118.5/118.5 kB\u001b[0m \u001b[31m12.3 MB/s\u001b[0m eta \u001b[36m0:00:00\u001b[0m\n",
            "\u001b[?25hDownloading opentelemetry_semantic_conventions-0.55b1-py3-none-any.whl (196 kB)\n",
            "\u001b[2K   \u001b[90m━━━━━━━━━━━━━━━━━━━━━━━━━━━━━━━━━━━━━━━━\u001b[0m \u001b[32m196.2/196.2 kB\u001b[0m \u001b[31m18.2 MB/s\u001b[0m eta \u001b[36m0:00:00\u001b[0m\n",
            "\u001b[?25hDownloading overrides-7.7.0-py3-none-any.whl (17 kB)\n",
            "Downloading posthog-6.0.0-py3-none-any.whl (104 kB)\n",
            "\u001b[2K   \u001b[90m━━━━━━━━━━━━━━━━━━━━━━━━━━━━━━━━━━━━━━━━\u001b[0m \u001b[32m104.9/104.9 kB\u001b[0m \u001b[31m10.2 MB/s\u001b[0m eta \u001b[36m0:00:00\u001b[0m\n",
            "\u001b[?25hDownloading pybase64-1.4.1-cp311-cp311-manylinux_2_5_x86_64.manylinux1_x86_64.manylinux_2_17_x86_64.manylinux2014_x86_64.whl (71 kB)\n",
            "\u001b[2K   \u001b[90m━━━━━━━━━━━━━━━━━━━━━━━━━━━━━━━━━━━━━━━━\u001b[0m \u001b[32m71.2/71.2 kB\u001b[0m \u001b[31m7.5 MB/s\u001b[0m eta \u001b[36m0:00:00\u001b[0m\n",
            "\u001b[?25hDownloading pydantic_settings-2.10.1-py3-none-any.whl (45 kB)\n",
            "\u001b[2K   \u001b[90m━━━━━━━━━━━━━━━━━━━━━━━━━━━━━━━━━━━━━━━━\u001b[0m \u001b[32m45.2/45.2 kB\u001b[0m \u001b[31m4.6 MB/s\u001b[0m eta \u001b[36m0:00:00\u001b[0m\n",
            "\u001b[?25hDownloading types_requests-2.32.4.20250611-py3-none-any.whl (20 kB)\n",
            "Downloading backoff-2.2.1-py3-none-any.whl (15 kB)\n",
            "Downloading durationpy-0.10-py3-none-any.whl (3.9 kB)\n",
            "Downloading httptools-0.6.4-cp311-cp311-manylinux_2_5_x86_64.manylinux1_x86_64.manylinux_2_17_x86_64.manylinux2014_x86_64.whl (459 kB)\n",
            "\u001b[2K   \u001b[90m━━━━━━━━━━━━━━━━━━━━━━━━━━━━━━━━━━━━━━━━\u001b[0m \u001b[32m459.8/459.8 kB\u001b[0m \u001b[31m30.3 MB/s\u001b[0m eta \u001b[36m0:00:00\u001b[0m\n",
            "\u001b[?25hDownloading marshmallow-3.26.1-py3-none-any.whl (50 kB)\n",
            "\u001b[2K   \u001b[90m━━━━━━━━━━━━━━━━━━━━━━━━━━━━━━━━━━━━━━━━\u001b[0m \u001b[32m50.9/50.9 kB\u001b[0m \u001b[31m4.8 MB/s\u001b[0m eta \u001b[36m0:00:00\u001b[0m\n",
            "\u001b[?25hDownloading python_dotenv-1.1.1-py3-none-any.whl (20 kB)\n",
            "Downloading typing_inspect-0.9.0-py3-none-any.whl (8.8 kB)\n",
            "Downloading uvloop-0.21.0-cp311-cp311-manylinux_2_17_x86_64.manylinux2014_x86_64.whl (4.0 MB)\n",
            "\u001b[2K   \u001b[90m━━━━━━━━━━━━━━━━━━━━━━━━━━━━━━━━━━━━━━━━\u001b[0m \u001b[32m4.0/4.0 MB\u001b[0m \u001b[31m91.6 MB/s\u001b[0m eta \u001b[36m0:00:00\u001b[0m\n",
            "\u001b[?25hDownloading watchfiles-1.1.0-cp311-cp311-manylinux_2_17_x86_64.manylinux2014_x86_64.whl (453 kB)\n",
            "\u001b[2K   \u001b[90m━━━━━━━━━━━━━━━━━━━━━━━━━━━━━━━━━━━━━━━━\u001b[0m \u001b[32m453.1/453.1 kB\u001b[0m \u001b[31m38.7 MB/s\u001b[0m eta \u001b[36m0:00:00\u001b[0m\n",
            "\u001b[?25hDownloading coloredlogs-15.0.1-py2.py3-none-any.whl (46 kB)\n",
            "\u001b[2K   \u001b[90m━━━━━━━━━━━━━━━━━━━━━━━━━━━━━━━━━━━━━━━━\u001b[0m \u001b[32m46.0/46.0 kB\u001b[0m \u001b[31m4.7 MB/s\u001b[0m eta \u001b[36m0:00:00\u001b[0m\n",
            "\u001b[?25hDownloading humanfriendly-10.0-py2.py3-none-any.whl (86 kB)\n",
            "\u001b[2K   \u001b[90m━━━━━━━━━━━━━━━━━━━━━━━━━━━━━━━━━━━━━━━━\u001b[0m \u001b[32m86.8/86.8 kB\u001b[0m \u001b[31m8.9 MB/s\u001b[0m eta \u001b[36m0:00:00\u001b[0m\n",
            "\u001b[?25hDownloading mypy_extensions-1.1.0-py3-none-any.whl (5.0 kB)\n",
            "Building wheels for collected packages: pypika\n",
            "  Building wheel for pypika (pyproject.toml) ... \u001b[?25l\u001b[?25hdone\n",
            "  Created wheel for pypika: filename=pypika-0.48.9-py2.py3-none-any.whl size=53803 sha256=218d3d7b490c2213d182d5baf219d2cf4d78e28cfdfda742500e16d2fd08b1f9\n",
            "  Stored in directory: /root/.cache/pip/wheels/a3/01/bd/4c40ceb9d5354160cb186dcc153360f4ab7eb23e2b24daf96d\n",
            "Successfully built pypika\n",
            "Installing collected packages: pypika, filetype, durationpy, uvloop, types-requests, python-dotenv, pybase64, overrides, opentelemetry-proto, mypy-extensions, mmh3, marshmallow, humanfriendly, httpx-sse, httptools, bcrypt, backoff, watchfiles, typing-inspect, posthog, opentelemetry-exporter-otlp-proto-common, opentelemetry-api, langchainhub, coloredlogs, pydantic-settings, opentelemetry-semantic-conventions, onnxruntime, kubernetes, dataclasses-json, opentelemetry-sdk, opentelemetry-exporter-otlp-proto-grpc, google-ai-generativelanguage, langchain-google-genai, chromadb, langchain_community\n",
            "  Attempting uninstall: google-ai-generativelanguage\n",
            "    Found existing installation: google-ai-generativelanguage 0.6.15\n",
            "    Uninstalling google-ai-generativelanguage-0.6.15:\n",
            "      Successfully uninstalled google-ai-generativelanguage-0.6.15\n",
            "\u001b[31mERROR: pip's dependency resolver does not currently take into account all the packages that are installed. This behaviour is the source of the following dependency conflicts.\n",
            "google-generativeai 0.8.5 requires google-ai-generativelanguage==0.6.15, but you have google-ai-generativelanguage 0.6.18 which is incompatible.\u001b[0m\u001b[31m\n",
            "\u001b[0mSuccessfully installed backoff-2.2.1 bcrypt-4.3.0 chromadb-1.0.13 coloredlogs-15.0.1 dataclasses-json-0.6.7 durationpy-0.10 filetype-1.2.0 google-ai-generativelanguage-0.6.18 httptools-0.6.4 httpx-sse-0.4.1 humanfriendly-10.0 kubernetes-33.1.0 langchain-google-genai-2.1.5 langchain_community-0.3.26 langchainhub-0.1.21 marshmallow-3.26.1 mmh3-5.1.0 mypy-extensions-1.1.0 onnxruntime-1.22.0 opentelemetry-api-1.34.1 opentelemetry-exporter-otlp-proto-common-1.34.1 opentelemetry-exporter-otlp-proto-grpc-1.34.1 opentelemetry-proto-1.34.1 opentelemetry-sdk-1.34.1 opentelemetry-semantic-conventions-0.55b1 overrides-7.7.0 posthog-6.0.0 pybase64-1.4.1 pydantic-settings-2.10.1 pypika-0.48.9 python-dotenv-1.1.1 types-requests-2.32.4.20250611 typing-inspect-0.9.0 uvloop-0.21.0 watchfiles-1.1.0\n"
          ]
        },
        {
          "output_type": "display_data",
          "data": {
            "application/vnd.colab-display-data+json": {
              "pip_warning": {
                "packages": [
                  "google"
                ]
              },
              "id": "4377117b8d2f43f9a24b5ab372651cee"
            }
          },
          "metadata": {}
        }
      ],
      "source": [
        "! pip install langchain_community tiktoken langchain-google-genai langchainhub chromadb langchain"
      ]
    },
    {
      "cell_type": "markdown",
      "id": "3e08bb78-7e80-4d95-a124-33b695bf5e6a",
      "metadata": {
        "id": "3e08bb78-7e80-4d95-a124-33b695bf5e6a"
      },
      "source": [
        "`(2) LangSmith`\n",
        "\n",
        "https://docs.smith.langchain.com/"
      ]
    },
    {
      "cell_type": "code",
      "execution_count": 3,
      "id": "5258de38-0cc0-4d9d-a5ca-6e750ebe6976",
      "metadata": {
        "id": "5258de38-0cc0-4d9d-a5ca-6e750ebe6976"
      },
      "outputs": [],
      "source": [
        "import os\n",
        "from google.colab import userdata\n",
        "os.environ['LANGCHAIN_TRACING_V2'] = 'true'\n",
        "os.environ['LANGCHAIN_ENDPOINT'] = 'https://api.smith.langchain.com'\n",
        "LANGCHAIN_API_KEY = userdata.get('LANGCHAIN_API_KEY')\n",
        "os.environ['LANGCHAIN_API_KEY'] = LANGCHAIN_API_KEY"
      ]
    },
    {
      "cell_type": "markdown",
      "id": "feaccdca-1ab0-43b1-82c2-22e9cd27675b",
      "metadata": {
        "id": "feaccdca-1ab0-43b1-82c2-22e9cd27675b"
      },
      "source": [
        "`(3) API Keys`"
      ]
    },
    {
      "cell_type": "code",
      "execution_count": 4,
      "id": "1cd6453b-2721-491c-b979-1860d58d8cf5",
      "metadata": {
        "id": "1cd6453b-2721-491c-b979-1860d58d8cf5"
      },
      "outputs": [],
      "source": [
        "os.environ['GOOGLE_API_KEY'] = userdata.get('GOOGLE_API_KEY')\n",
        "os.environ['PINECONE_API_KEY'] = userdata.get('PINECONE_API_KEY')\n"
      ]
    },
    {
      "cell_type": "markdown",
      "id": "4f2365b3-b61b-4dbf-ab17-636cbfcaf9e0",
      "metadata": {
        "id": "4f2365b3-b61b-4dbf-ab17-636cbfcaf9e0"
      },
      "source": [
        "## Part 5: Multi Query\n",
        "\n",
        "Flow:\n",
        "\n",
        "\n",
        "Docs:\n",
        "\n",
        "* https://python.langchain.com/docs/modules/data_connection/retrievers/MultiQueryRetriever\n",
        "\n",
        "### Index"
      ]
    },
    {
      "cell_type": "code",
      "execution_count": 6,
      "id": "9d1b6e2b-dd76-410d-b870-23e02564a665",
      "metadata": {
        "colab": {
          "base_uri": "https://localhost:8080/"
        },
        "id": "9d1b6e2b-dd76-410d-b870-23e02564a665",
        "outputId": "e8f96f00-665c-4752-e16c-fc936160d3b6"
      },
      "outputs": [
        {
          "output_type": "stream",
          "name": "stderr",
          "text": [
            "WARNING:langchain_community.utils.user_agent:USER_AGENT environment variable not set, consider setting it to identify your requests.\n"
          ]
        },
        {
          "output_type": "stream",
          "name": "stdout",
          "text": [
            "Error loading https://www.springboard.com/blog/data-science/regression-vs-classification/: 403 Client Error: Forbidden for url: https://www.springboard.com/blog/data-science/regression-vs-classification/\n"
          ]
        },
        {
          "output_type": "stream",
          "name": "stderr",
          "text": [
            "ERROR:chromadb.telemetry.product.posthog:Failed to send telemetry event ClientStartEvent: capture() takes 1 positional argument but 3 were given\n",
            "ERROR:chromadb.telemetry.product.posthog:Failed to send telemetry event ClientCreateCollectionEvent: capture() takes 1 positional argument but 3 were given\n"
          ]
        }
      ],
      "source": [
        "#### INDEXING ####\n",
        "\n",
        "# Load blog\n",
        "import bs4\n",
        "from langchain_community.document_loaders import WebBaseLoader\n",
        "from bs4 import BeautifulSoup\n",
        "import bs4\n",
        "import re\n",
        "from langchain_core.documents import Document\n",
        "import requests\n",
        "\n",
        "class CustomWebLoader:\n",
        "    def __init__(self):\n",
        "        self.session = requests.Session()\n",
        "\n",
        "    def load_html(self, url):\n",
        "        \"\"\"Enhanced HTML loader with better error handling\"\"\"\n",
        "        try:\n",
        "            response = self.session.get(url, timeout=30)\n",
        "            response.raise_for_status()\n",
        "\n",
        "            # Check if content-type is PDF\n",
        "            content_type = response.headers.get('Content-Type', '')\n",
        "            if 'application/pdf' in content_type:\n",
        "                return self.load_pdf_from_url(url)\n",
        "\n",
        "            soup = BeautifulSoup(response.content, 'html.parser')\n",
        "\n",
        "            # Remove unwanted elements\n",
        "            for element in soup(['script', 'style', 'nav', 'footer', 'iframe', 'noscript']):\n",
        "                element.decompose()\n",
        "\n",
        "            # Try to find main content areas - modified to include the classes from bs_kwargs\n",
        "            article = (soup.find('article') or\n",
        "                      soup.find('main') or\n",
        "                      soup.find(class_=re.compile('content|main|body|post|post-content|post-title|post-header')) or\n",
        "                      soup.find('div', role='main') or\n",
        "                      soup)\n",
        "\n",
        "            # Extract all text with structure\n",
        "            content = self._extract_structured_content(article)\n",
        "            if not content:\n",
        "                raise ValueError(\"No content extracted from HTML\")\n",
        "\n",
        "            return [Document(page_content=content, metadata={'source': url, 'type': 'html'})]\n",
        "\n",
        "        except Exception as e:\n",
        "            print(f\"Error loading {url}: {str(e)}\")\n",
        "            return []\n",
        "\n",
        "    def _extract_structured_content(self, element):\n",
        "        \"\"\"Extract content while preserving document structure\"\"\"\n",
        "        content = []\n",
        "\n",
        "        def process_element(elem):\n",
        "            if isinstance(elem, bs4.NavigableString):\n",
        "                text = elem.strip()\n",
        "                if text and len(text) > 10:\n",
        "                    content.append(text)\n",
        "                return\n",
        "\n",
        "            tag = elem.name\n",
        "            if not tag:\n",
        "                return\n",
        "\n",
        "            text = elem.get_text(' ', strip=True)\n",
        "            if not text or len(text) <= 10:\n",
        "                return\n",
        "\n",
        "            # Handle headings\n",
        "            if tag.startswith('h') and tag[1:].isdigit():\n",
        "                level = int(tag[1:])\n",
        "                content.append(f\"\\n{'#'*level} {text}\\n\")\n",
        "            # Handle list items\n",
        "            elif tag == 'li':\n",
        "                content.append(f\"- {text}\")\n",
        "            # Handle table cells\n",
        "            elif tag in ['td', 'th']:\n",
        "                content.append(f\"[TABLE CELL] {text}\")\n",
        "            # Handle regular paragraphs\n",
        "            elif tag == 'p':\n",
        "                content.append(text)\n",
        "            # Recursively process containers\n",
        "            else:\n",
        "                for child in elem.children:\n",
        "                    process_element(child)\n",
        "\n",
        "        process_element(element)\n",
        "        full_text = '\\n'.join(content)\n",
        "        full_text = re.sub(r'\\n{3,}', '\\n\\n', full_text)\n",
        "        full_text = re.sub(r'[ \\t]{2,}', ' ', full_text)\n",
        "        return full_text.strip()\n",
        "\n",
        "    def load(self, web_paths):\n",
        "        \"\"\"Load documents from multiple URLs\"\"\"\n",
        "        docs = []\n",
        "        for url in web_paths:\n",
        "            docs.extend(self.load_html(url))\n",
        "        return docs\n",
        "\n",
        "# Usage\n",
        "loader = CustomWebLoader()\n",
        "blog_docs = loader.load([\n",
        "    \"https://lilianweng.github.io/posts/2023-06-23-agent/\",\n",
        "    \"https://www.analyticsvidhya.com/blog/2023/05/regression-vs-classification/\",\n",
        "    \"https://www.simplilearn.com/regression-vs-classification-in-machine-learning-article\",\n",
        "    \"https://www.springboard.com/blog/data-science/regression-vs-classification/\"\n",
        "])\n",
        "# Split\n",
        "from langchain.text_splitter import RecursiveCharacterTextSplitter\n",
        "text_splitter = RecursiveCharacterTextSplitter.from_tiktoken_encoder(\n",
        "    chunk_size=300,\n",
        "    chunk_overlap=50)\n",
        "\n",
        "# Make splits\n",
        "splits = text_splitter.split_documents(blog_docs)\n",
        "\n",
        "# Index\n",
        "from langchain_google_genai import GoogleGenerativeAIEmbeddings\n",
        "from langchain_community.vectorstores import Chroma\n",
        "vectorstore = Chroma.from_documents(documents=splits,\n",
        "                                    embedding=GoogleGenerativeAIEmbeddings(model=\"models/embedding-001\"))\n",
        "\n",
        "retriever = vectorstore.as_retriever()"
      ]
    },
    {
      "cell_type": "code",
      "source": [
        "print(vectorstore._collection.count())\n",
        "vectorstore._collection.get(include=[\"documents\"])"
      ],
      "metadata": {
        "colab": {
          "base_uri": "https://localhost:8080/"
        },
        "id": "tcErGaMq4s4Z",
        "outputId": "0e1320a4-a0d8-47f8-9dd1-9ee8ecab0a6b"
      },
      "id": "tcErGaMq4s4Z",
      "execution_count": 7,
      "outputs": [
        {
          "output_type": "stream",
          "name": "stderr",
          "text": [
            "ERROR:chromadb.telemetry.product.posthog:Failed to send telemetry event CollectionGetEvent: capture() takes 1 positional argument but 3 were given\n"
          ]
        },
        {
          "output_type": "stream",
          "name": "stdout",
          "text": [
            "70\n"
          ]
        },
        {
          "output_type": "execute_result",
          "data": {
            "text/plain": [
              "{'ids': ['8c44c5e7-4c58-47ff-8ddd-d42d2f0d6e85',\n",
              "  '699bfe9b-a94d-4d9f-aebf-671cc8f55103',\n",
              "  '3849c904-e0ad-41b1-a9ab-be8c38fc0070',\n",
              "  'ca7a2869-499f-4aa8-b2bd-dfac02ce47cc',\n",
              "  '297b84d6-bdbb-4748-a4a5-c3a818e69293',\n",
              "  '449d453f-1131-4e6f-9666-2d7e77d5b1d8',\n",
              "  '6c324ebb-c5db-4c98-a494-9dff15039650',\n",
              "  '70889c7d-2c88-45ea-af9e-d2120b2eae8d',\n",
              "  'a209ed80-3eaa-4249-89e3-e3ab0a6644a3',\n",
              "  '8393a80c-0daf-48ee-8473-3cdb40674dcd',\n",
              "  '330a5aeb-ea3f-4a0e-af4f-052133248a23',\n",
              "  '356bad39-39e8-4968-bd7e-7cc87404df71',\n",
              "  '3f1ee4ec-5441-4299-83b1-0053b12ae22b',\n",
              "  'ea34f3d8-baf1-45df-801d-2f29b4022075',\n",
              "  'c74fe19c-876d-40b7-93d0-43d2a9017831',\n",
              "  'f098db4e-7d6a-47c7-9c78-c3dbbca58d79',\n",
              "  '8659b0b8-3c9f-4ea0-ae32-02291b214dd3',\n",
              "  '006f8483-305c-402d-b49a-a124cdfc13d9',\n",
              "  '8a6d6c26-56a5-43c2-b99e-d406c90694a8',\n",
              "  '3f6ffe21-52cf-4c04-bdb7-88427c2246ea',\n",
              "  'b3b56b3f-3d5b-4159-9187-e03482941d6c',\n",
              "  '90dea652-146d-40cc-a310-1cd4694040da',\n",
              "  '2c63df0c-50a4-45f3-9034-5acd1923efa9',\n",
              "  '78199e42-5b2b-4947-ac8f-d38032429a4b',\n",
              "  '98a89c07-f671-4c25-90db-f2303036bb39',\n",
              "  '57c1c528-3f4b-43c2-93c4-910bd025acd4',\n",
              "  'b9b124ea-5449-42f3-9d74-d1b1cb998336',\n",
              "  '0c7b0628-7a83-4235-8e37-00f53eee2409',\n",
              "  '25842d3f-e23f-4566-bf42-141915c50ddf',\n",
              "  'fd7a2c1a-93db-4c3b-af07-98a34b8e106f',\n",
              "  'a6ad72c6-5f51-48d9-852e-ba4a4dcd4a54',\n",
              "  '3eafd3ca-c1af-4bd0-b1d4-2d84ad427d43',\n",
              "  'de5eabaf-bc93-4ee3-8ae1-626256a4d3d4',\n",
              "  '3119aa70-77f6-4297-b30e-b8c2aebf4e39',\n",
              "  '0ff71739-b465-43ad-a95e-1d19b0ee8811',\n",
              "  '9c3881b7-37ee-46bc-ac93-df18db360634',\n",
              "  'c8865a0d-520d-47cc-b6de-fc53d3ca40aa',\n",
              "  '477c5381-3dfa-41ec-b422-13a8fb91d430',\n",
              "  '11a478c9-dde9-43e2-a4ee-1221cf5419f7',\n",
              "  'ab6c722e-fefb-4f48-a595-6dcbddaa5911',\n",
              "  '75247d2b-167f-4424-b0ac-3e3d0b794b94',\n",
              "  'ac61efd1-16ac-4c03-825d-1c7a7fe9d3f2',\n",
              "  'e0d37cb0-0e2a-4cbd-8249-73f129240cae',\n",
              "  '3771199a-532d-4fe0-8ef3-b2d645197da7',\n",
              "  '84475437-1c30-401b-9c17-fe78f542cf7a',\n",
              "  'b3313dfd-a23c-4f98-9814-d3f83d339fe6',\n",
              "  'e13597b2-6e4a-46c1-9f35-abf86dcecb8e',\n",
              "  'd784832d-b43a-4072-9b8f-b9dc30bd5f87',\n",
              "  'fc22d99b-321c-4ce5-9b27-da273fd52da1',\n",
              "  '826e1b83-9a0d-45b4-bbf9-0d2c8b35c73e',\n",
              "  'aec35dfd-b5ce-4495-91a7-9431c9148f19',\n",
              "  '924b0053-6987-4703-8543-445130e9052e',\n",
              "  'e57946a1-327f-4a24-a5b3-4253aa09d979',\n",
              "  '50944829-113d-4904-bec6-3584192067aa',\n",
              "  'ee350131-395d-47fe-96b0-f89a4fc5bf54',\n",
              "  '6ac9d9cf-b7c0-4699-8858-e51ddbebd04c',\n",
              "  'eb3a09ac-f68a-4136-8509-e5c20abbad36',\n",
              "  '8ca4787b-c3ee-4dbc-9ae9-65982bd74d9e',\n",
              "  '7a5cc386-be46-420b-ac6f-86714c22dbd4',\n",
              "  'ff13305a-5db6-45a2-ac0c-c949abc59710',\n",
              "  '45c2715e-f9eb-4898-91d6-c218f96fcc0b',\n",
              "  'e3839ccc-4e24-437b-bee4-5a5c8f0fb317',\n",
              "  '8401c3e5-7e27-468b-bc5a-460001bd79af',\n",
              "  '9bea3bc1-d66a-4cdb-87ce-2b340d15b678',\n",
              "  '368531c2-38b3-4311-bb25-2a4988f17352',\n",
              "  '68e2eff4-b2ce-4e3c-8a7d-1f3589a1eba9',\n",
              "  '9b5223b1-5be4-4341-bb41-2bd9d8c20c0b',\n",
              "  '2c2e25e9-10c2-4812-924a-8e4501e92dd0',\n",
              "  '77de7e62-f11f-4188-8a89-0395295db90b',\n",
              "  'aba04cdc-3c37-4757-801e-f1b388862863'],\n",
              " 'embeddings': None,\n",
              " 'documents': ['# LLM Powered Autonomous Agents\\n\\nDate: June 23, 2023 | Estimated Reading Time: 31 min | Author: Lilian Weng\\nTable of Contents\\n- Agent System Overview\\n- Component One: Planning Task Decomposition Self-Reflection\\n- Component Two: Memory Types of Memory Maximum Inner Product Search (MIPS)\\n- Component Three: Tool Use\\n- Case Studies Scientific Discovery Agent Generative Agents Simulation Proof-of-Concept Examples\\nBuilding agents with LLM (large language model) as its core controller is a cool concept. Several proof-of-concepts demos, such as AutoGPT , GPT-Engineer and BabyAGI , serve as inspiring examples. The potentiality of LLM extends beyond generating well-written copies, stories, essays and programs; it can be framed as a powerful general problem solver.\\n\\n# Agent System Overview #',\n",
              "  '# Agent System Overview #\\n\\nIn a LLM-powered autonomous agent system, LLM functions as the agent’s brain, complemented by several key components:\\n- Planning Subgoal and decomposition: The agent breaks down large tasks into smaller, manageable subgoals, enabling efficient handling of complex tasks. Reflection and refinement: The agent can do self-criticism and self-reflection over past actions, learn from mistakes and refine them for future steps, thereby improving the quality of final results.\\n- Memory Short-term memory: I would consider all the in-context learning (See Prompt Engineering ) as utilizing short-term memory of the model to learn. Long-term memory: This provides the agent with the capability to retain and recall (infinite) information over extended periods, often by leveraging an external vector store and fast retrieval.\\n- Tool use The agent learns to call external APIs for extra information that is missing from the model weights (often hard to change after pre-training), including current information, code execution capability, access to proprietary information sources and more.\\nOverview of a LLM-powered autonomous agent system.\\n\\n# Component One: Planning #\\n\\nA complicated task usually involves many steps. An agent needs to know what they are and plan ahead.\\n\\n## Task Decomposition #',\n",
              "  'Chain of thought (CoT; Wei et al. 2022 ) has become a standard prompting technique for enhancing model performance on complex tasks. The model is instructed to “think step by step” to utilize more test-time computation to decompose hard tasks into smaller and simpler steps. CoT transforms big tasks into multiple manageable tasks and shed lights into an interpretation of the model’s thinking process.\\nTree of Thoughts ( Yao et al. 2023 ) extends CoT by exploring multiple reasoning possibilities at each step. It first decomposes the problem into multiple thought steps and generates multiple thoughts per step, creating a tree structure. The search process can be BFS (breadth-first search) or DFS (depth-first search) with each state evaluated by a classifier (via a prompt) or majority vote.\\nTask decomposition can be done (1) by LLM with simple prompting like \"Steps for XYZ.\\\\n1.\" , \"What are the subgoals for achieving XYZ?\" , (2) by using task-specific instructions; e.g. \"Write a story outline.\" for writing a novel, or (3) with human inputs.',\n",
              "  'Another quite distinct approach, LLM+P ( Liu et al. 2023 ), involves relying on an external classical planner to do long-horizon planning. This approach utilizes the Planning Domain Definition Language (PDDL) as an intermediate interface to describe the planning problem. In this process, LLM (1) translates the problem into “Problem PDDL”, then (2) requests a classical planner to generate a PDDL plan based on an existing “Domain PDDL”, and finally (3) translates the PDDL plan back into natural language. Essentially, the planning step is outsourced to an external tool, assuming the availability of domain-specific PDDL and a suitable planner which is common in certain robotic setups but not in many other domains.',\n",
              "  '## Self-Reflection #',\n",
              "  'Self-reflection is a vital aspect that allows autonomous agents to improve iteratively by refining past action decisions and correcting previous mistakes. It plays a crucial role in real-world tasks where trial and error are inevitable.\\nReAct ( Yao et al. 2023 ) integrates reasoning and acting within LLM by extending the action space to be a combination of task-specific discrete actions and the language space. The former enables LLM to interact with the environment (e.g. use Wikipedia search API), while the latter prompting LLM to generate reasoning traces in natural language.\\nThe ReAct prompt template incorporates explicit steps for LLM to think, roughly formatted as:\\nThought: ...\\nAction: ...\\nObservation: ...\\n... (Repeated many times)\\nExamples of reasoning trajectories for knowledge-intensive tasks (e.g. HotpotQA, FEVER) and decision-making tasks (e.g. AlfWorld Env, WebShop). (Image source:\\nYao et al. 2023\\nIn both experiments on knowledge-intensive tasks and decision-making tasks, ReAct works better than the Act -only baseline where Thought: … step is removed.',\n",
              "  'Yao et al. 2023\\nIn both experiments on knowledge-intensive tasks and decision-making tasks, ReAct works better than the Act -only baseline where Thought: … step is removed.\\nReflexion ( Shinn & Labash 2023 ) is a framework to equip agents with dynamic memory and self-reflection capabilities to improve reasoning skills. Reflexion has a standard RL setup, in which the reward model provides a simple binary reward and the action space follows the setup in ReAct where the task-specific action space is augmented with language to enable complex reasoning steps. After each action $a_t$, the agent computes a heuristic $h_t$ and optionally may decide to reset the environment to start a new trial depending on the self-reflection results.\\nIllustration of the Reflexion framework. (Image source:\\nShinn & Labash, 2023\\nThe heuristic function determines when the trajectory is inefficient or contains hallucination and should be stopped. Inefficient planning refers to trajectories that take too long without success. Hallucination is defined as encountering a sequence of consecutive identical actions that lead to the same observation in the environment.',\n",
              "  'Self-reflection is created by showing two-shot examples to LLM and each example is a pair of (failed trajectory, ideal reflection for guiding future changes in the plan). Then reflections are added into the agent’s working memory, up to three, to be used as context for querying LLM.\\nExperiments on AlfWorld Env and HotpotQA. Hallucination is a more common failure than inefficient planning in AlfWorld. (Image source:\\nShinn & Labash, 2023',\n",
              "  'Chain of Hindsight (CoH; Liu et al. 2023 ) encourages the model to improve on its own outputs by explicitly presenting it with a sequence of past outputs, each annotated with feedback. Human feedback data is a collection of $D_h = \\\\{(x, y_i , r_i , z_i)\\\\}_{i=1}^n$, where $x$ is the prompt, each $y_i$ is a model completion, $r_i$ is the human rating of $y_i$, and $z_i$ is the corresponding human-provided hindsight feedback. Assume the feedback tuples are ranked by reward, $r_n \\\\geq r_{n-1} \\\\geq \\\\dots \\\\geq r_1$ The process is supervised fine-tuning where the data is a sequence in the form of $\\\\tau_h = (x, z_i, y_i, z_j, y_j, \\\\dots, z_n, y_n)$, where $\\\\leq i \\\\leq j \\\\leq n$. The model is finetuned to only predict $y_n$ where conditioned on the sequence prefix, such that the model can self-reflect to produce better output based on the feedback sequence. The model can optionally receive multiple rounds of instructions with human annotators at test time.',\n",
              "  'To avoid overfitting, CoH adds a regularization term to maximize the log-likelihood of the pre-training dataset. To avoid shortcutting and copying (because there are many common words in feedback sequences), they randomly mask 0% - 5% of past tokens during training.\\nThe training dataset in their experiments is a combination of WebGPT comparisons , summarization from human feedback and human preference dataset .\\nAfter fine-tuning with CoH, the model can follow instructions to produce outputs with incremental improvement in a sequence. (Image source:\\nLiu et al. 2023\\nThe idea of CoH is to present a history of sequentially improved outputs in context and train the model to take on the trend to produce better outputs. Algorithm Distillation (AD; Laskin et al. 2023 ) applies the same idea to cross-episode trajectories in reinforcement learning tasks, where an algorithm is encapsulated in a long history-conditioned policy. Considering that an agent interacts with the environment many times and in each episode the agent gets a little better, AD concatenates this learning history and feeds that into the model. Hence we should expect the next predicted action to lead to better performance than previous trials. The goal is to learn the process of RL instead of training a task-specific policy itself.\\nIllustration of how Algorithm Distillation (AD) works.\\n(Image source:\\nLaskin et al. 2023',\n",
              "  'Illustration of how Algorithm Distillation (AD) works.\\n(Image source:\\nLaskin et al. 2023\\nThe paper hypothesizes that any algorithm that generates a set of learning histories can be distilled into a neural network by performing behavioral cloning over actions. The history data is generated by a set of source policies, each trained for a specific task. At the training stage, during each RL run, a random task is sampled and a subsequence of multi-episode history is used for training, such that the learned policy is task-agnostic.\\nIn reality, the model has limited context window length, so episodes should be short enough to construct multi-episode history. Multi-episodic contexts of 2-4 episodes are necessary to learn a near-optimal in-context RL algorithm. The emergence of in-context RL requires long enough context.\\nIn comparison with three baselines, including ED (expert distillation, behavior cloning with expert trajectories instead of learning history), source policy (used for generating trajectories for distillation by UCB ), RL^2 ( Duan et al. 2017 ; used as upper bound since it needs online RL), AD demonstrates in-context RL with performance getting close to RL^2 despite only using offline RL and learns much faster than other baselines. When conditioned on partial training history of the source policy, AD also improves much faster than ED baseline.',\n",
              "  'Comparison of AD, ED, source policy and RL^2 on environments that require memory and exploration. Only binary reward is assigned. The source policies are trained with\\nfor \"dark\" environments and\\nfor watermaze.\\n(Image source:\\nLaskin et al. 2023',\n",
              "  '# Component Two: Memory #\\n\\n(Big thank you to ChatGPT for helping me draft this section. I’ve learned a lot about the human brain and data structure for fast MIPS in my conversations with ChatGPT.)\\n\\n## Types of Memory #',\n",
              "  'Memory can be defined as the processes used to acquire, store, retain, and later retrieve information. There are several types of memory in human brains.\\n- Sensory Memory : This is the earliest stage of memory, providing the ability to retain impressions of sensory information (visual, auditory, etc) after the original stimuli have ended. Sensory memory typically only lasts for up to a few seconds. Subcategories include iconic memory (visual), echoic memory (auditory), and haptic memory (touch).\\n- Short-Term Memory (STM) or Working Memory : It stores information that we are currently aware of and needed to carry out complex cognitive tasks such as learning and reasoning. Short-term memory is believed to have the capacity of about 7 items ( Miller 1956 ) and lasts for 20-30 seconds.\\n- Long-Term Memory (LTM): Long-term memory can store information for a remarkably long time, ranging from a few days to decades, with an essentially unlimited storage capacity. There are two subtypes of LTM: Explicit / declarative memory: This is memory of facts and events, and refers to those memories that can be consciously recalled, including episodic memory (events and experiences) and semantic memory (facts and concepts). Implicit / procedural memory: This type of memory is unconscious and involves skills and routines that are performed automatically, like riding a bike or typing on a keyboard.\\nCategorization of human memory.',\n",
              "  'Categorization of human memory.\\nWe can roughly consider the following mappings:\\n- Sensory memory as learning embedding representations for raw inputs, including text, image or other modalities;\\n- Short-term memory as in-context learning. It is short and finite, as it is restricted by the finite context window length of Transformer.\\n- Long-term memory as the external vector store that the agent can attend to at query time, accessible via fast retrieval.',\n",
              "  '## Maximum Inner Product Search (MIPS) #',\n",
              "  'The external memory can alleviate the restriction of finite attention span. A standard practice is to save the embedding representation of information into a vector store database that can support fast maximum inner-product search ( MIPS ). To optimize the retrieval speed, the common choice is the approximate nearest neighbors (ANN)\\u200b algorithm to return approximately top k nearest neighbors to trade off a little accuracy lost for a huge speedup.\\nA couple common choices of ANN algorithms for fast MIPS:\\n- LSH (Locality-Sensitive Hashing): It introduces a hashing function such that similar input items are mapped to the same buckets with high probability, where the number of buckets is much smaller than the number of inputs.\\n- ANNOY (Approximate Nearest Neighbors Oh Yeah): The core data structure are random projection trees , a set of binary trees where each non-leaf node represents a hyperplane splitting the input space into half and each leaf stores one data point. Trees are built independently and at random, so to some extent, it mimics a hashing function. ANNOY search happens in all the trees to iteratively search through the half that is closest to the query and then aggregates the results. The idea is quite related to KD tree but a lot more scalable.',\n",
              "  '- HNSW (Hierarchical Navigable Small World): It is inspired by the idea of small world networks where most nodes can be reached by any other nodes within a small number of steps; e.g. “six degrees of separation” feature of social networks. HNSW builds hierarchical layers of these small-world graphs, where the bottom layers contain the actual data points. The layers in the middle create shortcuts to speed up search. When performing a search, HNSW starts from a random node in the top layer and navigates towards the target. When it can’t get any closer, it moves down to the next layer, until it reaches the bottom layer. Each move in the upper layers can potentially cover a large distance in the data space, and each move in the lower layers refines the search quality.\\n- FAISS (Facebook AI Similarity Search): It operates on the assumption that in high dimensional space, distances between nodes follow a Gaussian distribution and thus there should exist clustering of data points. FAISS applies vector quantization by partitioning the vector space into clusters and then refining the quantization within clusters. Search first looks for cluster candidates with coarse quantization and then further looks into each cluster with finer quantization.',\n",
              "  '- ScaNN (Scalable Nearest Neighbors): The main innovation in ScaNN is anisotropic vector quantization . It quantizes a data point $x_i$ to $\\\\tilde{x}_i$ such that the inner product $\\\\langle q, x_i \\\\rangle$ is as similar to the original distance of $\\\\angle q, \\\\tilde{x}_i$ as possible, instead of picking the closet quantization centroid points.\\nComparison of MIPS algorithms, measured in recall@10. (Image source:\\nGoogle Blog, 2020\\nCheck more MIPS algorithms and performance comparison in ann-benchmarks.com .',\n",
              "  '# Component Three: Tool Use #',\n",
              "  'Tool use is a remarkable and distinguishing characteristic of human beings. We create, modify and utilize external objects to do things that go beyond our physical and cognitive limits. Equipping LLMs with external tools can significantly extend the model capabilities.\\nA picture of a sea otter using rock to crack open a seashell, while floating in the water. While some other animals can use tools, the complexity is not comparable with humans. (Image source:\\nAnimals using tools\\nMRKL ( Karpas et al. 2022 ), short for “Modular Reasoning, Knowledge and Language”, is a neuro-symbolic architecture for autonomous agents. A MRKL system is proposed to contain a collection of “expert” modules and the general-purpose LLM works as a router to route inquiries to the best suitable expert module. These modules can be neural (e.g. deep learning models) or symbolic (e.g. math calculator, currency converter, weather API).',\n",
              "  'They did an experiment on fine-tuning LLM to call a calculator, using arithmetic as a test case. Their experiments showed that it was harder to solve verbal math problems than explicitly stated math problems because LLMs (7B Jurassic1-large model) failed to extract the right arguments for the basic arithmetic reliably. The results highlight when the external symbolic tools can work reliably, knowing when to and how to use the tools are crucial , determined by the LLM capability.\\nBoth TALM (Tool Augmented Language Models; Parisi et al. 2022 ) and Toolformer ( Schick et al. 2023 ) fine-tune a LM to learn to use external tool APIs. The dataset is expanded based on whether a newly added API call annotation can improve the quality of model outputs. See more details in the “External APIs” section of Prompt Engineering.\\nChatGPT Plugins and OpenAI API function calling are good examples of LLMs augmented with tool use capability working in practice. The collection of tool APIs can be provided by other developers (as in Plugins) or self-defined (as in function calls).\\nHuggingGPT ( Shen et al. 2023 ) is a framework to use ChatGPT as the task planner to select models available in HuggingFace platform according to the model descriptions and summarize the response based on the execution results.\\nIllustration of how HuggingGPT works. (Image source:',\n",
              "  'Illustration of how HuggingGPT works. (Image source:\\nShen et al. 2023\\nThe system comprises of 4 stages:\\n(1) Task planning : LLM works as the brain and parses the user requests into multiple tasks. There are four attributes associated with each task: task type, ID, dependencies, and arguments. They use few-shot examples to guide LLM to do task parsing and planning.\\nInstruction:\\nThe AI assistant can parse user input to several tasks: [{\"task\": task, \"id\", task_id, \"dep\": dependency_task_ids, \"args\": {\"text\": text, \"image\": URL, \"audio\": URL, \"video\": URL}}]. The \"dep\" field denotes the id of the previous task which generates a new resource that the current task relies on. A special tag \"\\n-task_id\" refers to the generated text image, audio and video in the dependency task with id as task_id. The task MUST be selected from the following options: {{ Available Task List }}. There is a logical relationship between tasks, please note their order. If the user input can\\'t be parsed, you need to reply empty JSON. Here are several cases for your reference: {{ Demonstrations }}. The chat history is recorded as {{ Chat History }}. From this chat history, you can find the path of the user-mentioned resources for your task planning.',\n",
              "  '(2) Model selection : LLM distributes the tasks to expert models, where the request is framed as a multiple-choice question. LLM is presented with a list of models to choose from. Due to the limited context length, task type based filtration is needed.\\nInstruction:\\nGiven the user request and the call command, the AI assistant helps the user to select a suitable model from a list of models to process the user request. The AI assistant merely outputs the model id of the most appropriate model. The output must be in a strict JSON format: \"id\": \"id\", \"reason\": \"your detail reason for the choice\". We have a list of models for you to choose from {{ Candidate Models }}. Please select one model from the list.\\n(3) Task execution : Expert models execute on the specific tasks and log results.\\nInstruction:\\nWith the input and the inference results, the AI assistant needs to describe the process and results. The previous stages can be formed as - User Input: {{ User Input }}, Task Planning: {{ Tasks }}, Model Selection: {{ Model Assignment }}, Task Execution: {{ Predictions }}. You must first answer the user\\'s request in a straightforward manner. Then describe the task process and show your analysis and model inference results to the user in the first person. If inference results contain a file path, must tell the user the complete file path.',\n",
              "  '(4) Response generation : LLM receives the execution results and provides summarized results to users.\\nTo put HuggingGPT into real world usage, a couple challenges need to solve: (1) Efficiency improvement is needed as both LLM inference rounds and interactions with other models slow down the process; (2) It relies on a long context window to communicate over complicated task content; (3) Stability improvement of LLM outputs and external model services.\\nAPI-Bank ( Li et al. 2023 ) is a benchmark for evaluating the performance of tool-augmented LLMs. It contains 53 commonly used API tools, a complete tool-augmented LLM workflow, and 264 annotated dialogues that involve 568 API calls. The selection of APIs is quite diverse, including search engines, calculator, calendar queries, smart home control, schedule management, health data management, account authentication workflow and more. Because there are a large number of APIs, LLM first has access to API search engine to find the right API to call and then uses the corresponding documentation to make a call.\\nPseudo code of how LLM makes an API call in API-Bank. (Image source:\\nLi et al. 2023\\nIn the API-Bank workflow, LLMs need to make a couple of decisions and at each step we can evaluate how accurate that decision is. Decisions include:\\n- Whether an API call is needed.',\n",
              "  'Li et al. 2023\\nIn the API-Bank workflow, LLMs need to make a couple of decisions and at each step we can evaluate how accurate that decision is. Decisions include:\\n- Whether an API call is needed.\\n- Identify the right API to call: if not good enough, LLMs need to iteratively modify the API inputs (e.g. deciding search keywords for Search Engine API).\\n- Response based on the API results: the model can choose to refine and call again if results are not satisfied.\\nThis benchmark evaluates the agent’s tool use capabilities at three levels:\\n- Level-1 evaluates the ability to call the API . Given an API’s description, the model needs to determine whether to call a given API, call it correctly, and respond properly to API returns.\\n- Level-2 examines the ability to retrieve the API . The model needs to search for possible APIs that may solve the user’s requirement and learn how to use them by reading documentation.\\n- Level-3 assesses the ability to plan API beyond retrieve and call . Given unclear user requests (e.g. schedule group meetings, book flight/hotel/restaurant for a trip), the model may have to conduct multiple API calls to solve it.',\n",
              "  '# Case Studies #\\n\\n## Scientific Discovery Agent #',\n",
              "  'ChemCrow ( Bran et al. 2023 ) is a domain-specific example in which LLM is augmented with 13 expert-designed tools to accomplish tasks across organic synthesis, drug discovery, and materials design. The workflow, implemented in LangChain , reflects what was previously described in the ReAct and MRKLs and combines CoT reasoning with tools relevant to the tasks:\\n- The LLM is provided with a list of tool names, descriptions of their utility, and details about the expected input/output.\\n- It is then instructed to answer a user-given prompt using the tools provided when necessary. The instruction suggests the model to follow the ReAct format - Thought, Action, Action Input, Observation .\\nOne interesting observation is that while the LLM-based evaluation concluded that GPT-4 and ChemCrow perform nearly equivalently, human evaluations with experts oriented towards the completion and chemical correctness of the solutions showed that ChemCrow outperforms GPT-4 by a large margin. This indicates a potential problem with using LLM to evaluate its own performance on domains that requires deep expertise. The lack of expertise may cause LLMs not knowing its flaws and thus cannot well judge the correctness of task results.',\n",
              "  'Boiko et al. (2023) also looked into LLM-empowered agents for scientific discovery, to handle autonomous design, planning, and performance of complex scientific experiments. This agent can use tools to browse the Internet, read documentation, execute code, call robotics experimentation APIs and leverage other LLMs.\\nFor example, when requested to \"develop a novel anticancer drug\" , the model came up with the following reasoning steps:\\n- inquired about current trends in anticancer drug discovery;\\n- selected a target;\\n- requested a scaffold targeting these compounds;\\n- Once the compound was identified, the model attempted its synthesis.\\nThey also discussed the risks, especially with illicit drugs and bioweapons. They developed a test set containing a list of known chemical weapon agents and asked the agent to synthesize them. 4 out of 11 requests (36%) were accepted to obtain a synthesis solution and the agent attempted to consult documentation to execute the procedure. 7 out of 11 were rejected and among these 7 rejected cases, 5 happened after a Web search while 2 were rejected based on prompt only.',\n",
              "  '## Generative Agents Simulation #',\n",
              "  'Generative Agents ( Park, et al. 2023 ) is super fun experiment where 25 virtual characters, each controlled by a LLM-powered agent, are living and interacting in a sandbox environment, inspired by The Sims. Generative agents create believable simulacra of human behavior for interactive applications.\\nThe design of generative agents combines LLM with memory, planning and reflection mechanisms to enable agents to behave conditioned on past experience, as well as to interact with other agents.\\n- Memory stream: is a long-term memory module (external database) that records a comprehensive list of agents’ experience in natural language. Each element is an observation , an event directly provided by the agent.\\n- Inter-agent communication can trigger new natural language statements.\\n- Retrieval model: surfaces the context to inform the agent’s behavior, according to relevance, recency and importance. Recency: recent events have higher scores Importance: distinguish mundane from core memories. Ask LM directly. Relevance: based on how related it is to the current situation / query.',\n",
              "  \"- Reflection mechanism: synthesizes memories into higher level inferences over time and guides the agent’s future behavior. They are higher-level summaries of past events (<- note that this is a bit different from self-reflection above) Prompt LM with 100 most recent observations and to generate 3 most salient high-level questions given a set of observations/statements. Then ask LM to answer those questions.\\n- Planning & Reacting : translate the reflections and the environment information into actions Planning is essentially in order to optimize believability at the moment vs in time. Prompt template: {Intro of an agent X}. Here is X's plan today in broad strokes: 1) Relationships between agents and observations of one agent by another are all taken into consideration for planning and reacting. Environment information is present in a tree structure.\\nThe generative agent architecture. (Image source:\\nPark et al. 2023\\nThis fun simulation results in emergent social behavior, such as information diffusion, relationship memory (e.g. two agents continuing the conversation topic) and coordination of social events (e.g. host a party and invite many others).\",\n",
              "  '## Proof-of-Concept Examples #\\n\\nAutoGPT has drawn a lot of attention into the possibility of setting up autonomous agents with LLM as the main controller. It has quite a lot of reliability issues given the natural language interface, but nevertheless a cool proof-of-concept demo. A lot of code in AutoGPT is about format parsing.\\nHere is the system message used by AutoGPT, where {{...}} are user inputs:\\nYou are {{ai-name}}, {{user-provided AI bot description}}.\\nYour decisions must always be made independently without seeking user assistance. Play to your strengths as an LLM and pursue simple strategies with no legal complications.\\n\\nGOALS:\\n\\n1. {{user-provided goal 1}}\\n2. {{user-provided goal 2}}\\n3. ...\\n4. ...\\n5. ...\\n\\nConstraints:\\n1. ~4000 word limit for short term memory. Your short term memory is short, so immediately save important information to files.\\n2. If you are unsure how you previously did something or want to recall past events, thinking about similar events will help you remember.\\n3. No user assistance\\n4. Exclusively use the commands listed in double quotes e.g. \"command name\"\\n5. Use subprocesses for commands that will not terminate within a few minutes',\n",
              "  'Commands:\\n1. Google Search: \"google\", args: \"input\": \"<search>\"\\n2. Browse Website: \"browse_website\", args: \"url\": \"<url>\", \"question\": \"<what_you_want_to_find_on_website>\"\\n3. Start GPT Agent: \"start_agent\", args: \"name\": \"<name>\", \"task\": \"<short_task_desc>\", \"prompt\": \"<prompt>\"\\n4. Message GPT Agent: \"message_agent\", args: \"key\": \"<key>\", \"message\": \"<message>\"\\n5. List GPT Agents: \"list_agents\", args:\\n6. Delete GPT Agent: \"delete_agent\", args: \"key\": \"<key>\"\\n7. Clone Repository: \"clone_repository\", args: \"repository_url\": \"<url>\", \"clone_path\": \"<directory>\"\\n8. Write to file: \"write_to_file\", args: \"file\": \"<file>\", \"text\": \"<text>\"\\n9. Read file: \"read_file\", args: \"file\": \"<file>\"\\n10. Append to file: \"append_to_file\", args: \"file\": \"<file>\", \"text\": \"<text>\"\\n11. Delete file: \"delete_file\", args: \"file\": \"<file>\"',\n",
              "  '10. Append to file: \"append_to_file\", args: \"file\": \"<file>\", \"text\": \"<text>\"\\n11. Delete file: \"delete_file\", args: \"file\": \"<file>\"\\n12. Search Files: \"search_files\", args: \"directory\": \"<directory>\"\\n13. Analyze Code: \"analyze_code\", args: \"code\": \"<full_code_string>\"\\n14. Get Improved Code: \"improve_code\", args: \"suggestions\": \"<list_of_suggestions>\", \"code\": \"<full_code_string>\"\\n15. Write Tests: \"write_tests\", args: \"code\": \"<full_code_string>\", \"focus\": \"<list_of_focus_areas>\"\\n16. Execute Python File: \"execute_python_file\", args: \"file\": \"<file>\"\\n17. Generate Image: \"generate_image\", args: \"prompt\": \"<prompt>\"\\n18. Send Tweet: \"send_tweet\", args: \"text\": \"<text>\"\\n19. Do Nothing: \"do_nothing\", args:\\n20. Task Complete (Shutdown): \"task_complete\", args: \"reason\": \"<reason>\"',\n",
              "  'Resources:\\n1. Internet access for searches and information gathering.\\n2. Long Term memory management.\\n3. GPT-3.5 powered Agents for delegation of simple tasks.\\n4. File output.\\n\\nPerformance Evaluation:\\n1. Continuously review and analyze your actions to ensure you are performing to the best of your abilities.\\n2. Constructively self-criticize your big-picture behavior constantly.\\n3. Reflect on past decisions and strategies to refine your approach.\\n4. Every command has a cost, so be smart and efficient. Aim to complete tasks in the least number of steps.',\n",
              "  'You should only respond in JSON format as described below\\nResponse Format:\\n{\\n \"thoughts\": {\\n \"text\": \"thought\",\\n \"reasoning\": \"reasoning\",\\n \"plan\": \"- short bulleted\\\\n- list that conveys\\\\n- long-term plan\",\\n \"criticism\": \"constructive self-criticism\",\\n \"speak\": \"thoughts summary to say to user\"\\n },\\n \"command\": {\\n \"name\": \"command name\",\\n \"args\": {\\n \"arg name\": \"value\"\\n }\\n }\\n}\\nEnsure the response can be parsed by Python json.loads\\nGPT-Engineer is another project to create a whole repository of code given a task specified in natural language. The GPT-Engineer is instructed to think over a list of smaller components to build and ask for user input to clarify questions as needed.\\nHere are a sample conversation for task clarification sent to OpenAI ChatCompletion endpoint used by GPT-Engineer. The user inputs are wrapped in {{user input text}} .\\n[\\n {\\n \"role\": \"system\",',\n",
              "  'Here are a sample conversation for task clarification sent to OpenAI ChatCompletion endpoint used by GPT-Engineer. The user inputs are wrapped in {{user input text}} .\\n[\\n {\\n \"role\": \"system\",\\n \"content\": \"You will read instructions and not carry them out, only seek to clarify them.\\\\nSpecifically you will first summarise a list of super short bullets of areas that need clarification.\\\\nThen you will pick one clarifying question, and wait for an answer from the user.\\\\n\"\\n },\\n {\\n \"role\": \"user\",\\n \"content\": \"We are writing {{a Super Mario game in python. MVC components split in separate files. Keyboard control.}}\\\\n\"\\n },\\n {\\n \"role\": \"assistant\",\\n \"content\": \"Summary of areas that need clarification:\\\\n1. Specifics of the Super Mario game (e.g. level design, characters, gameplay mechanics)\\\\n2. Details about the MVC components (e.g. which components are in each file)\\\\n3. Keyboard control implementation (e.g. which keys to use, how to handle input)\\\\n\\\\nClarifying question:\\\\nCan you provide more details about the Super Mario game, such as level design, characters, and gameplay mechanics?\"\\n },\\n {\\n \"role\": \"user\",',\n",
              "  '},\\n {\\n \"role\": \"user\",\\n \"content\": \"{{There are 10 levels in total. The main character is a plumber named Mario, who can walk and jump. It is a classical platform game just like Super Mario. The main character moves from left to right, trying to get to the destination, where there are many obstacles and attacks from enemies in the process.}}\\\\n\\\\nIs anything else unclear? If yes, only answer in the form:\\\\n{remaining unclear areas} remaining questions.\\\\n{Next question}\\\\nIf everything is sufficiently clear, only answer \\\\\"Nothing more to clarify.\\\\\".\"\\n },\\n {\\n \"role\": \"assistant\",\\n \"content\": \"Remaining unclear areas: 2 remaining questions.\\\\nCan you provide more information about how the MVC components are split into separate files?\"\\n },\\n {\\n \"role\": \"user\",\\n \"content\": \"{{Make your own assumptions and state them explicitly before starting}}\"\\n }\\n]\\nThen after these clarification, the agent moved into the code writing mode with a different system message.\\nSystem message:\\nYou will get instructions for code to write.\\nYou will write a very long answer. Make sure that every detail of the architecture is, in the end, implemented as code.\\nMake sure that every detail of the architecture is, in the end, implemented as code.',\n",
              "  'You will write a very long answer. Make sure that every detail of the architecture is, in the end, implemented as code.\\nMake sure that every detail of the architecture is, in the end, implemented as code.\\nThink step by step and reason yourself to the right decisions to make sure we get it right.\\nYou will first lay out the names of the core classes, functions, methods that will be necessary, as well as a quick comment on their purpose.\\nThen you will output the content of each file including ALL code.\\nEach file must strictly follow a markdown code block format, where the following tokens must be replaced such that\\nFILENAME is the lowercase file name including the file extension,\\nLANG is the markup code block language for the code’s language, and CODE is the code:\\nYou will start with the “entrypoint” file, then go to the ones that are imported by that file, and so on.\\nPlease note that the code should be fully functional. No placeholders.\\nFollow a language and framework appropriate best practice file naming convention.\\nMake sure that files contain all imports, types etc. Make sure that code in different files are compatible with each other.\\nEnsure to implement all code, if you are unsure, write a plausible implementation.\\nInclude module dependency or package manager dependency definition file.',\n",
              "  'Ensure to implement all code, if you are unsure, write a plausible implementation.\\nInclude module dependency or package manager dependency definition file.\\nBefore you finish, double check that all parts of the architecture is present in the files.\\nUseful to know:\\nYou almost always put different classes in different files.\\nFor Python, you always create an appropriate requirements.txt file.\\nFor NodeJS, you always create an appropriate package.json file.\\nYou always add a comment briefly describing the purpose of the function definition.\\nYou try to add comments explaining very complex bits of logic.\\nYou always follow the best practices for the requested languages in terms of describing the code written as a defined\\npackage/project.\\nPython toolbelt preferences:\\n- dataclasses\\nConversatin samples:\\n[\\n {\\n \"role\": \"system\",',\n",
              "  '\"content\": \"You will get instructions for code to write.\\\\nYou will write a very long answer. Make sure that every detail of the architecture is, in the end, implemented as code.\\\\nMake sure that every detail of the architecture is, in the end, implemented as code.\\\\n\\\\nThink step by step and reason yourself to the right decisions to make sure we get it right.\\\\nYou will first lay out the names of the core classes, functions, methods that will be necessary, as well as a quick comment on their purpose.\\\\n\\\\nThen you will output the content of each file including ALL code.\\\\nEach file must strictly follow a markdown code block format, where the following tokens must be replaced such that\\\\nFILENAME is the lowercase file name including the file extension,\\\\nLANG is the markup code block language for the code\\'s language, and CODE is the code:\\\\n\\\\nFILENAME\\\\n```LANG\\\\nCODE\\\\n```\\\\n\\\\nYou will start with the \\\\\"entrypoint\\\\\" file, then go to the ones that are imported by that file, and so on.\\\\nPlease note that the code should be fully functional. No placeholders.\\\\n\\\\nFollow a language and framework appropriate best practice file naming convention.\\\\nMake sure that files contain all imports, types etc. Make sure that code in different files are compatible',\n",
              "  'that the code should be fully functional. No placeholders.\\\\n\\\\nFollow a language and framework appropriate best practice file naming convention.\\\\nMake sure that files contain all imports, types etc. Make sure that code in different files are compatible with each other.\\\\nEnsure to implement all code, if you are unsure, write a plausible implementation.\\\\nInclude module dependency or package manager dependency definition file.\\\\nBefore you finish, double check that all parts of the architecture is present in the files.\\\\n\\\\nUseful to know:\\\\nYou almost always put different classes in different files.\\\\nFor Python, you always create an appropriate requirements.txt file.\\\\nFor NodeJS, you always create an appropriate package.json file.\\\\nYou always add a comment briefly describing the purpose of the function definition.\\\\nYou try to add comments explaining very complex bits of logic.\\\\nYou always follow the best practices for the requested languages in terms of describing the code written as a defined\\\\npackage/project.\\\\n\\\\n\\\\nPython toolbelt preferences:\\\\n- pytest\\\\n- dataclasses\\\\n\"',\n",
              "  '},\\n # … same conversation as earlier, ended with \"Make your own assumptions and state them explicitly before starting\".\\n {\\n \"role\": \"assistant\",\\n \"content\": \"Assumptions:\\\\n1. Model: The model will contain the game\\'s data, such as level information, character states, and enemy positions.\\\\n2. View: The view will handle the game\\'s visuals, including rendering the game objects, backgrounds, and updating the display.\\\\n3. Controller: The controller will manage user input, such as keyboard controls, and update the model accordingly.\\\\n\\\\nWith these assumptions in mind, is there any specific aspect of the keyboard control implementation you would like me to clarify?\"\\n },\\n {\\n \"role\": \"user\",',\n",
              "  '},\\n {\\n \"role\": \"user\",\\n \"content\": \"Please now remember the steps:\\\\n\\\\nThink step by step and reason yourself to the right decisions to make sure we get it right.\\\\nFirst lay out the names of the core classes, functions, methods that will be necessary, As well as a quick comment on their purpose.\\\\n\\\\nThen you will output the content of each file including ALL code.\\\\nEach file must strictly follow a markdown code block format, where the following tokens must be replaced such that\\\\nFILENAME is the lowercase file name including the file extension,\\\\nLANG is the markup code block language for the code\\'s language, and CODE is the code:\\\\n\\\\nFILENAME\\\\n```LANG\\\\nCODE\\\\n```\\\\n\\\\nPlease note that the code should be fully functional. No placeholders.\\\\n\\\\nYou will start with the \\\\\"entrypoint\\\\\" file, then go to the ones that are imported by that file, and so on.\\\\nFollow a language and framework appropriate best practice file naming convention.\\\\nMake sure that files contain all imports, types etc. The code should be fully functional. Make sure that code in different files are compatible with each other.\\\\nBefore you finish, double check that all parts of the architecture is present in the files.\\\\n\"\\n }\\n]',\n",
              "  '# Challenges #',\n",
              "  'After going through key ideas and demos of building LLM-centered agents, I start to see a couple common limitations:\\n- Finite context length : The restricted context capacity limits the inclusion of historical information, detailed instructions, API call context, and responses. The design of the system has to work with this limited communication bandwidth, while mechanisms like self-reflection to learn from past mistakes would benefit a lot from long or infinite context windows. Although vector stores and retrieval can provide access to a larger knowledge pool, their representation power is not as powerful as full attention.\\n- Challenges in long-term planning and task decomposition : Planning over a lengthy history and effectively exploring the solution space remain challenging. LLMs struggle to adjust plans when faced with unexpected errors, making them less robust compared to humans who learn from trial and error.\\n- Reliability of natural language interface : Current agent system relies on natural language as an interface between LLMs and external components such as memory and tools. However, the reliability of model outputs is questionable, as LLMs may make formatting errors and occasionally exhibit rebellious behavior (e.g. refuse to follow an instruction). Consequently, much of the agent demo code focuses on parsing model output.\\nWeng, Lilian. (Jun 2023). “LLM-powered Autonomous Agents”. Lil’Log. https://lilianweng.github.io/posts/2023-06-23-agent/.',\n",
              "  '@article{weng2023agent,\\n title = \"LLM-powered Autonomous Agents\",\\n author = \"Weng, Lilian\",\\n journal = \"lilianweng.github.io\",\\n year = \"2023\",\\n month = \"Jun\",\\n url = \"https://lilianweng.github.io/posts/2023-06-23-agent/\"\\n}',\n",
              "  '# References #',\n",
              "  '[1] Wei et al. “Chain of thought prompting elicits reasoning in large language models.” NeurIPS 2022\\n[2] Yao et al. “Tree of Thoughts: Dliberate Problem Solving with Large Language Models.” arXiv preprint arXiv:2305.10601 (2023).\\n[3] Liu et al. “Chain of Hindsight Aligns Language Models with Feedback\\n“ arXiv preprint arXiv:2302.02676 (2023).\\n[4] Liu et al. “LLM+P: Empowering Large Language Models with Optimal Planning Proficiency” arXiv preprint arXiv:2304.11477 (2023).\\n[5] Yao et al. “ReAct: Synergizing reasoning and acting in language models.” ICLR 2023.\\n[6] Google Blog. “Announcing ScaNN: Efficient Vector Similarity Search” July 28, 2020.\\n[7] https://chat.openai.com/share/46ff149e-a4c7-4dd7-a800-fc4a642ea389',\n",
              "  '[7] https://chat.openai.com/share/46ff149e-a4c7-4dd7-a800-fc4a642ea389\\n[8] Shinn & Labash. “Reflexion: an autonomous agent with dynamic memory and self-reflection” arXiv preprint arXiv:2303.11366 (2023).\\n[9] Laskin et al. “In-context Reinforcement Learning with Algorithm Distillation” ICLR 2023.\\n[10] Karpas et al. “MRKL Systems A modular, neuro-symbolic architecture that combines large language models, external knowledge sources and discrete reasoning.” arXiv preprint arXiv:2205.00445 (2022).\\n[11] Nakano et al. “Webgpt: Browser-assisted question-answering with human feedback.” arXiv preprint arXiv:2112.09332 (2021).\\n[12] Parisi et al. “TALM: Tool Augmented Language Models”\\n[13] Schick et al. “Toolformer: Language Models Can Teach Themselves to Use Tools.” arXiv preprint arXiv:2302.04761 (2023).',\n",
              "  '[13] Schick et al. “Toolformer: Language Models Can Teach Themselves to Use Tools.” arXiv preprint arXiv:2302.04761 (2023).\\n[14] Weaviate Blog. Why is Vector Search so fast? Sep 13, 2022.\\n[15] Li et al. “API-Bank: A Benchmark for Tool-Augmented LLMs” arXiv preprint arXiv:2304.08244 (2023).\\n[16] Shen et al. “HuggingGPT: Solving AI Tasks with ChatGPT and its Friends in HuggingFace” arXiv preprint arXiv:2303.17580 (2023).\\n[17] Bran et al. “ChemCrow: Augmenting large-language models with chemistry tools.” arXiv preprint arXiv:2304.05376 (2023).\\n[18] Boiko et al. “Emergent autonomous scientific research capabilities of large language models.” arXiv preprint arXiv:2304.05332 (2023).\\n[19] Joon Sung Park, et al. “Generative Agents: Interactive Simulacra of Human Behavior.” arXiv preprint arXiv:2304.03442 (2023).',\n",
              "  '[19] Joon Sung Park, et al. “Generative Agents: Interactive Simulacra of Human Behavior.” arXiv preprint arXiv:2304.03442 (2023).\\n[20] AutoGPT. https://github.com/Significant-Gravitas/Auto-GPT\\n[21] GPT-Engineer. https://github.com/AntonOsika/gpt-engineer',\n",
              "  'Master Generative AI with 10+ Real-world Projects in 2025!\\n<div class=\"d-flex align-items-center\">\\nDownload Projects',\n",
              "  'Our machines are getting more intelligent and more capable of independent tasks, and they owe it to the rapidly growing fields of Artificial Intelligence and Machine Learning . However, both areas are incredibly complex and take time and effort to understand better.\\nThis article explores Regression vs. Classification in Machine Learning, including the definitions, types, differences, and use cases.\\nThe foremost leader in IT, IBM defines Machine Learning as “…a branch of artificial intelligence (AI) and computer science which focuses on the use of data and algorithms to imitate how humans learn, gradually improving its accuracy.”\\nBoth Regression and Classification algorithms are known as Supervised Learning algorithms and are used to predict in Machine learning and work with labeled datasets. However, their differing approach to Machine Learning problems is their point of divergence.\\nNow let’s take an in-depth look into Regression vs Classification.\\n\\n## Regression in Machine Learning Explained\\n\\nRegression finds correlations between dependent and independent variables. Therefore, regression algorithms help predict continuous variables such as house prices, market trends, weather patterns, oil and gas prices (a critical task these days!), etc.\\nThe Regression algorithm’s task is finding the mapping function so we can map the input variable of “x” to the continuous output variable of “y.”\\n\\n## Classification in Machine Learning Explained',\n",
              "  '## Classification in Machine Learning Explained\\n\\nOn the other hand, Classification is an algorithm that finds functions that help divide the dataset into classes based on various parameters. When using a Classification algorithm, a computer program gets taught on the training dataset and categorizes the data into various categories depending on what it learned.\\nClassification algorithms find the mapping function to map the “x” input to “y” discrete output. The algorithms estimate discrete values (in other words, binary values such as 0 and 1, yes and no, true or false, based on a particular set of independent variables. To put it another, more straightforward way, classification algorithms predict an event occurrence probability by fitting data to a logit function.\\nClassification algorithms are used for things like email and spam classification, predicting the willingness of bank customers to pay their loans, and identifying cancer tumor cells.\\n\\n## Types of Regression',\n",
              "  '## Types of Regression\\n\\nHere are the types of Regression algorithms commonly found in the Machine Learning field:\\n- Decision Tree Regression :\\xa0The primary purpose of this regression is to divide the dataset into smaller subsets. These subsets are created to plot the value of any data point connecting to the problem statement.\\n- Principal Components Regression:\\xa0This regression technique is widely used. There are many independent variables, or multicollinearity exists in your data.\\n- Polynomial Regression:\\xa0This type fits a non-linear equation by using the polynomial functions of an independent variable.\\n- Random Forest Regression: Random Forest regression is heavily used in Machine Learning. It uses multiple decision trees to predict the output. Random data points are chosen from the given dataset and used to build a decision tree via this algorithm.\\n- Simple Linear Regression: This type is the least complicated form of regression, where the dependent variable is continuous.\\n- Support Vector Regression: This regression type solves both linear and non-linear models. It uses non-linear kernel functions, like polynomials, to find an optimal solution for non-linear models.\\n\\n## Types of Classification',\n",
              "  \"## Types of Classification\\n\\nAnd here are the types of Classification algorithms typically used in Machine Learning:\\n- Decision Tree Classification:\\xa0This type divides a dataset into segments based on particular feature variables. The divisions’ threshold values are typically the mean or mode of the feature variable in question if they happen to be numerical.\\n- K-Nearest Neighbors :\\xa0This Classification type identifies the K nearest neighbors to a given observation point. It then uses K points to evaluate the proportions of each type of target variable and predicts the target variable that has the highest ratio.\\n- Logistic Regression :\\xa0This classification type isn't complex so it can be easily adopted with minimal training. It predicts the probability of Y being associated with the X input variable.\\n- Naïve Bayes: This classifier is one of the most effective yet simplest algorithms. It’s based on Bayes’ theorem, which describes how event probability is evaluated based on the previous knowledge of conditions that could be related to the event.\\n- Random Forest Classification:\\xa0Random forest processes many decision trees, each one predicting a value for target variable probability. You then arrive at the final output by averaging the probabilities.\\n- Support Vector Machines:\\xa0This algorithm employs support vector classifiers with an exciting change, making it ideal for evaluating non-linear decision boundaries. This process is possible by enlarging feature variable space by employing special functions known as kernels.\",\n",
              "  '## The Difference Between Regression vs. Classification',\n",
              "  'This image, courtesy of Javatpoint, illustrates Classification versus Regression algorithms.\\nThis table shows the specific differences between Regression vs. Classification algorithms.\\n[TABLE CELL] Regression Algorithms\\n[TABLE CELL] Classification Algorithms\\n[TABLE CELL] The output variable must be either continuous nature or real value.\\n[TABLE CELL] The output variable has to be a discrete value.\\n[TABLE CELL] The regression algorithm’s task is mapping input value (x) with continuous output variable (y).\\n[TABLE CELL] The classification algorithm’s task mapping the input value of x with the discrete output variable of y.\\n[TABLE CELL] They are used with continuous data.\\n[TABLE CELL] They are used with discrete data.\\n[TABLE CELL] It attempt to find the best fit line, which predicts the output more accurately.\\n[TABLE CELL] Classification tries to find the decision boundary, which divides the dataset into different classes.\\n[TABLE CELL] Regression algorithms solve regression problems such as house price predictions and weather predictions.\\n[TABLE CELL] Classification algorithms solve classification problems like identifying spam e-mails, spotting cancer cells, and speech recognition.\\n[TABLE CELL] We can further divide Regression algorithms into Linear and Non-linear Regression.',\n",
              "  '[TABLE CELL] Classification algorithms solve classification problems like identifying spam e-mails, spotting cancer cells, and speech recognition.\\n[TABLE CELL] We can further divide Regression algorithms into Linear and Non-linear Regression.\\n[TABLE CELL] We can further divide Classification algorithms into Binary Classifiers and Multi-class Classifiers.\\nNow that we have the differences between Classification and Regression algorithms plainly mapped out, it’s time to see how they relate to decision trees. But before we do that, we need to ask an important question.',\n",
              "  \"## What’s a Decision Tree Algorithm, Anyway?\\n\\nWe can classify Machine Learning algorithms into two types: supervised and unsupervised. Decision making trees are a supervised Machine Learning algorithm. For example, decision-making trees are a supervised Machine Learning algorithm.\\nDecision tree algorithms are if-else statements used to predict a result based on the available data.\\nHere’s an example of a decision tree, courtesy of Hackerearth. We can use this decision tree to predict today's weather and see if it's a good idea to have a picnic.\\nNow that we have the definition of a basic decision tree squared away, we’re ready to delve into Classification and Regression Trees.\\n\\n## What’s the Difference Between a Classification and Regression Tree?\",\n",
              "  'Classification and Regression trees, collectively known as CART, describe decision tree algorithms employed in Classification and Regression learning tasks. Leo Breiman, Jerome Friedman, Richard Olshen, and Charles Stone introduced the Classification and Regression tree methodology in 1984.\\nA Classification tree is an algorithm with either a fixed or categorical target variable. We can then use the algorithm to identify the most likely “class” a target variable will probably fall into. These algorithms are used to answer questions or solve problems such as “Who is most likely to sign up for this promotion?” or “Who will or will not pass this course?”\\nBoth of those questions are simple binary classifications. The categorial dependent variable assumes only one of two possible, mutually exclusive values. However, you may have cases where you need a prediction that considers multiple variables, such as “Which of these four promotions will people probably sign up for?” In this case, the categorical dependent variable has multiple values.\\nHere’s a sample Classification tree that a mortgage lender would employ, courtesy of Datasciencecentral.\\nA Regression tree describes an algorithm that takes ordered values with continuous values and predicts the value. For example, you may want to predict a condominium’s selling price, a continuous dependent variable.',\n",
              "  \"A Regression tree describes an algorithm that takes ordered values with continuous values and predicts the value. For example, you may want to predict a condominium’s selling price, a continuous dependent variable.\\nThe selling price would depend on continuous factors like square footage and categorical factors like the condo's style, the property's location, and similar factors.\\nHere’s an example of a Regression tree, courtesy of Rpub. This tree calculates baseball player salaries.\\nAs for the actual differences, Classification trees are used for handling problems dealing with classification results, and Regression trees work with prediction type problems. But let’s look closer at the differences.\",\n",
              "  '### Functionality\\n\\nClassification trees divide the dataset based on homogeneity, such as a pair of variables. For instance, we could use two variables such as age and gender. If the training data showed that 85 percent of men liked a specific movie, the data is split at that point, and gender becomes a top node in the tree. That division makes the information 85% pure.\\nThe Regression trees fit to the target variable using all the independent variables. The data of each independent variable is then divided at several points. The error between predicted and actual values gets squared at each point to arrive at a Sum of Squared Errors, or SSE. This SSE gets compared across all variables, and the point or variable with the lowest SSE becomes the split point, and the process continues recursively.\\n\\n### Regression vs. Classification: Advantages Over Standard Decision Trees',\n",
              "  '### Regression vs. Classification: Advantages Over Standard Decision Trees\\n\\nBoth Classification and Regression decision trees generate accurate predictions using if-else conditions. Their benefits include:\\n- Simple results:\\xa0It’s easy to observe and classify these results, making them easier to evaluate or explain to other people.\\n- They’re non-linear and nonparametric:\\xa0Since both trees deal with simplistic results, they avoid implicit assumptions, making them well-suited for data mining functions.\\n- The trees implicitly perform feature selection:\\xa0Variable screening, also called feature selection, is vital for analytics. The top few nodes of the decision tree are the most important, so these decision trees automatically handle feature selection.\\n\\n### Drawbacks of Classification and Regression Trees\\n\\nNo system is perfect. Classification and Regression decision trees bring their own challenges and limitations.\\n- They’re prone to overfitting: Overfitting happens when a tree considers the noise found in most data and results in inaccuracies.\\n- They’re prone to high variance: Even a tiny variance in data can lead to a high variance in the resulting prediction, creating an unstable outcome.\\n- They typically have low bias: Complex decision trees have characteristically low bias, making adding new data difficult.\\n\\n## When to Use Regression vs. Classification',\n",
              "  '## When to Use Regression vs. Classification\\n\\nWe use Classification trees when the dataset must be divided into classes that belong to the response variable. In most cases, those classes are “Yes” or “No.” Thus, there are just two classes, and they are mutually exclusive. Of course, there sometimes may be more than two classes, but we just use a variant of the classification tree algorithm in those cases.\\nHowever, we use Regression trees when we have continuous response variables. For example, if the response variable is something like the value of an object or today’s temperature, we use a Regression tree.\\n\\n## Is a Decision Tree a Regression or a Classification Model?\\n\\nIt’s easy to spot which model is which. In short, a Regression decision tree model is used to predict continuous values, while a Classification decision tree model deals with a binary “either-or” situation.\\n\\n## Choose the Right Program',\n",
              "  \"Supercharge your career in AI and ML with Simplilearn's comprehensive courses. Gain the skills and knowledge to transform industries and unleash your true potential. Enroll now and unlock limitless possibilities!\\n[TABLE CELL] Program Name\\n[TABLE CELL] AI Engineer\\n[TABLE CELL] Post Graduate Program In Artificial Intelligence\\n[TABLE CELL] Post Graduate Program In Artificial Intelligence\\n[TABLE CELL] Simplilearn\\n[TABLE CELL] Course Duration\\n[TABLE CELL] Coding Experience Required\\n[TABLE CELL] Skills You Will Learn\\n[TABLE CELL] 10+ skills including data structure, data manipulation, NumPy, Scikit-Learn, Tableau and more.\\n[TABLE CELL] 16+ skills including chatbots, NLP, Python, Keras and more.\\n[TABLE CELL] 8+ skills including Supervised & Unsupervised Learning Deep Learning Data Visualization, and more.\\n[TABLE CELL] Additional Benefits\\n[TABLE CELL] Get access to exclusive Hackathons, Masterclasses and Ask-Me-Anything sessions by IBM Applied learning via 3 Capstone and 12 Industry-relevant Projects\\n[TABLE CELL] Purdue Alumni Association Membership Free IIMJobs Pro-Membership of 6 months Resume Building Assistance\\n[TABLE CELL] Upto 14 CEU Credits Caltech CTME Circle Membership\\n[TABLE CELL] Explore Program\",\n",
              "  '[TABLE CELL] Upto 14 CEU Credits Caltech CTME Circle Membership\\n[TABLE CELL] Explore Program\\n[TABLE CELL] Explore Program\\n[TABLE CELL] Explore Program',\n",
              "  '## Do You Want to Become a Machine Learning Professional?\\n\\nIf you’re looking for a career that combines a challenge, job security, and excellent compensation, look no further than the exciting and rapidly growing field of Machine Learning. We see more robots, self-driving cars, and intelligent application bots performing increasingly complex tasks every day.\\nSimplilearn can help you get into this fantastic field thanks to its AI and Machine Learning Course. This program features 58 hours of applied learning, interactive labs, four hands-on projects, and mentoring. You will receive an in-depth look at Machine Learning topics such as working with real-time data, developing supervised and unsupervised learning algorithms, Regression, Classification, and time series modeling. In addition, you will learn how to use Python to draw predictions from data.\\nSimplilearn also offers other Artificial Intelligence and Machine Learning related courses, such as the Caltech Artificial Intelligence Course\\nAccording to Glassdoor, Machine Learning Engineers in the United States can earn a yearly average of $123,764, while in India, a similar position offers an annual average of ₹1,000,000!\\nLet Simplilearn help you take your place in this amazing new world of Machine Learning and give you the tools to create a better future for your career. So, visit Simplilearn today and take those vital first steps!'],\n",
              " 'uris': None,\n",
              " 'included': ['documents'],\n",
              " 'data': None,\n",
              " 'metadatas': None}"
            ]
          },
          "metadata": {},
          "execution_count": 7
        }
      ]
    },
    {
      "cell_type": "markdown",
      "id": "76f1b6c5-faa9-404b-90c6-22d3b40169fa",
      "metadata": {
        "id": "76f1b6c5-faa9-404b-90c6-22d3b40169fa"
      },
      "source": [
        "### Prompt"
      ]
    },
    {
      "cell_type": "code",
      "execution_count": 8,
      "id": "965de464-0c98-4318-9f9e-f8a597c8d5d6",
      "metadata": {
        "id": "965de464-0c98-4318-9f9e-f8a597c8d5d6"
      },
      "outputs": [],
      "source": [
        "from langchain.prompts import ChatPromptTemplate\n",
        "\n",
        "# Multi Query: Different Perspectives\n",
        "template = \"\"\"You are an AI language model assistant. Your task is to generate five\n",
        "different versions of the given user question to retrieve relevant documents from a vector\n",
        "database. By generating multiple perspectives on the user question, your goal is to help\n",
        "the user overcome some of the limitations of the distance-based similarity search.\n",
        "Provide these alternative questions separated by newlines. Original question: {question}\"\"\"\n",
        "prompt_perspectives = ChatPromptTemplate.from_template(template)\n",
        "\n",
        "from langchain_core.output_parsers import StrOutputParser\n",
        "from langchain_google_genai import ChatGoogleGenerativeAI\n",
        "\n",
        "generate_queries = (\n",
        "    prompt_perspectives\n",
        "    | ChatGoogleGenerativeAI(model=\"gemini-2.0-flash\",temperature=0)\n",
        "    | StrOutputParser()\n",
        "    | (lambda x: x.split(\"\\n\"))\n",
        ")"
      ]
    },
    {
      "cell_type": "code",
      "execution_count": 9,
      "id": "4f253520-386f-434b-8daa-d6dadb89eddb",
      "metadata": {
        "colab": {
          "base_uri": "https://localhost:8080/"
        },
        "id": "4f253520-386f-434b-8daa-d6dadb89eddb",
        "outputId": "4026abd3-8bc5-4a76-8a9e-613cf8ef4809"
      },
      "outputs": [
        {
          "output_type": "stream",
          "name": "stderr",
          "text": [
            "ERROR:chromadb.telemetry.product.posthog:Failed to send telemetry event CollectionQueryEvent: capture() takes 1 positional argument but 3 were given\n",
            "/tmp/ipython-input-9-2591009411.py:10: LangChainBetaWarning: The function `loads` is in beta. It is actively being worked on, so the API may change.\n",
            "  return [loads(doc) for doc in unique_docs]\n"
          ]
        },
        {
          "output_type": "execute_result",
          "data": {
            "text/plain": [
              "20"
            ]
          },
          "metadata": {},
          "execution_count": 9
        }
      ],
      "source": [
        "from langchain.load import dumps, loads\n",
        "\n",
        "def get_unique_union(documents: list[list]):\n",
        "    \"\"\" Unique union of retrieved docs \"\"\"\n",
        "    # Flatten list of lists, and convert each Document to string\n",
        "    flattened_docs = [dumps(doc) for sublist in documents for doc in sublist]\n",
        "    # Get unique documents\n",
        "    unique_docs = list(set(flattened_docs))\n",
        "    # Return\n",
        "    return [loads(doc) for doc in unique_docs]\n",
        "\n",
        "# Retrieve\n",
        "question = \"5 differences between regression and classfication\"\n",
        "retrieval_chain = generate_queries | retriever.map() | get_unique_union\n",
        "docs = retrieval_chain.invoke({\"question\":question})\n",
        "len(docs)"
      ]
    },
    {
      "cell_type": "code",
      "execution_count": 10,
      "id": "af6e74e8-ddae-4165-9e4b-0022ac125194",
      "metadata": {
        "colab": {
          "base_uri": "https://localhost:8080/",
          "height": 128
        },
        "id": "af6e74e8-ddae-4165-9e4b-0022ac125194",
        "outputId": "de87dbf2-05ea-4b0c-fea2-99b10fbf8707"
      },
      "outputs": [
        {
          "output_type": "execute_result",
          "data": {
            "text/plain": [
              "'Here are 5 differences between Regression and Classification algorithms, based on the provided documents:\\n\\n1.  **Output Variable Type:** Regression algorithms require the output variable to be continuous or a real value, while classification algorithms require a discrete output value.\\n2.  **Task:** Regression algorithms map an input value (x) to a continuous output variable (y). Classification algorithms map an input value (x) to a discrete output variable (y).\\n3.  **Data Type:** Regression algorithms are used with continuous data, while classification algorithms are used with discrete data.\\n4.  **Goal:** Regression attempts to find the best-fit line to predict the output accurately. Classification tries to find the decision boundary, which divides the dataset into different classes.\\n5.  **Problem Solving:** Regression algorithms solve regression problems like house price prediction and weather prediction. Classification algorithms solve classification problems like identifying spam emails, spotting cancer cells, and speech recognition.'"
            ],
            "application/vnd.google.colaboratory.intrinsic+json": {
              "type": "string"
            }
          },
          "metadata": {},
          "execution_count": 10
        }
      ],
      "source": [
        "from operator import itemgetter\n",
        "from langchain_google_genai import ChatGoogleGenerativeAI\n",
        "from langchain_core.runnables import RunnablePassthrough\n",
        "\n",
        "# RAG\n",
        "template = \"\"\"Answer the following question based on this context:\n",
        "\n",
        "{context}\n",
        "\n",
        "Question: {question}\n",
        "\"\"\"\n",
        "\n",
        "prompt = ChatPromptTemplate.from_template(template)\n",
        "\n",
        "llm = ChatGoogleGenerativeAI(model=\"gemini-2.0-flash\",temperature=0)\n",
        "\n",
        "final_rag_chain = (\n",
        "    {\"context\": retrieval_chain,\n",
        "     \"question\": itemgetter(\"question\")}\n",
        "    | prompt\n",
        "    | llm\n",
        "    | StrOutputParser()\n",
        ")\n",
        "\n",
        "final_rag_chain.invoke({\"question\":question})"
      ]
    },
    {
      "cell_type": "markdown",
      "id": "618afe4a-f1d6-433a-9d28-f1956c2b83ef",
      "metadata": {
        "id": "618afe4a-f1d6-433a-9d28-f1956c2b83ef"
      },
      "source": [
        "## Part 6: RAG-Fusion\n",
        "\n",
        "Docs:\n",
        "\n",
        "* https://github.com/langchain-ai/langchain/blob/master/cookbook/rag_fusion.ipynb?ref=blog.langchain.dev\n",
        "\n",
        "Blog / repo:\n",
        "\n",
        "* https://towardsdatascience.com/forget-rag-the-future-is-rag-fusion-1147298d8ad1\n",
        "\n",
        "### Prompt"
      ]
    },
    {
      "cell_type": "code",
      "execution_count": 11,
      "id": "34e7075b-b80d-461d-9e2e-e05e29436f3e",
      "metadata": {
        "id": "34e7075b-b80d-461d-9e2e-e05e29436f3e"
      },
      "outputs": [],
      "source": [
        "from langchain.prompts import ChatPromptTemplate\n",
        "\n",
        "# RAG-Fusion: Related\n",
        "template = \"\"\"You are a helpful assistant that generates multiple search queries based on a single input query. \\n\n",
        "Generate multiple search queries related to: {question} \\n\n",
        "Output (4 queries):\"\"\"\n",
        "prompt_rag_fusion = ChatPromptTemplate.from_template(template)"
      ]
    },
    {
      "cell_type": "code",
      "execution_count": 12,
      "id": "9781b40c-c408-42f4-ae14-cd11be513b63",
      "metadata": {
        "id": "9781b40c-c408-42f4-ae14-cd11be513b63"
      },
      "outputs": [],
      "source": [
        "from langchain_core.output_parsers import StrOutputParser\n",
        "from langchain_google_genai import ChatGoogleGenerativeAI\n",
        "\n",
        "generate_queries = (\n",
        "    prompt_rag_fusion\n",
        "    | ChatGoogleGenerativeAI(model=\"gemini-2.0-flash\",temperature=0)\n",
        "    | StrOutputParser()\n",
        "    | (lambda x: x.split(\"\\n\"))\n",
        ")"
      ]
    },
    {
      "cell_type": "code",
      "execution_count": 13,
      "id": "2b1adff1-e993-4747-b95d-656eaaeccfdd",
      "metadata": {
        "colab": {
          "base_uri": "https://localhost:8080/"
        },
        "id": "2b1adff1-e993-4747-b95d-656eaaeccfdd",
        "outputId": "467965b4-d5ed-497b-f58f-6b09e77b0a92"
      },
      "outputs": [
        {
          "output_type": "execute_result",
          "data": {
            "text/plain": [
              "[(Document(metadata={'type': 'html', 'source': 'https://www.simplilearn.com/regression-vs-classification-in-machine-learning-article'}, page_content='## Types of Regression\\n\\nHere are the types of Regression algorithms commonly found in the Machine Learning field:\\n- Decision Tree Regression :\\xa0The primary purpose of this regression is to divide the dataset into smaller subsets. These subsets are created to plot the value of any data point connecting to the problem statement.\\n- Principal Components Regression:\\xa0This regression technique is widely used. There are many independent variables, or multicollinearity exists in your data.\\n- Polynomial Regression:\\xa0This type fits a non-linear equation by using the polynomial functions of an independent variable.\\n- Random Forest Regression: Random Forest regression is heavily used in Machine Learning. It uses multiple decision trees to predict the output. Random data points are chosen from the given dataset and used to build a decision tree via this algorithm.\\n- Simple Linear Regression: This type is the least complicated form of regression, where the dependent variable is continuous.\\n- Support Vector Regression: This regression type solves both linear and non-linear models. It uses non-linear kernel functions, like polynomials, to find an optimal solution for non-linear models.\\n\\n## Types of Classification'),\n",
              "  0.08279569892473118),\n",
              " (Document(metadata={'source': 'https://www.simplilearn.com/regression-vs-classification-in-machine-learning-article', 'type': 'html'}, page_content='[TABLE CELL] Classification algorithms solve classification problems like identifying spam e-mails, spotting cancer cells, and speech recognition.\\n[TABLE CELL] We can further divide Regression algorithms into Linear and Non-linear Regression.\\n[TABLE CELL] We can further divide Classification algorithms into Binary Classifiers and Multi-class Classifiers.\\nNow that we have the differences between Classification and Regression algorithms plainly mapped out, it’s time to see how they relate to decision trees. But before we do that, we need to ask an important question.'),\n",
              "  0.03306010928961749),\n",
              " (Document(metadata={'type': 'html', 'source': 'https://www.simplilearn.com/regression-vs-classification-in-machine-learning-article'}, page_content='[TABLE CELL] Classification algorithms solve classification problems like identifying spam e-mails, spotting cancer cells, and speech recognition.\\n[TABLE CELL] We can further divide Regression algorithms into Linear and Non-linear Regression.\\n[TABLE CELL] We can further divide Classification algorithms into Binary Classifiers and Multi-class Classifiers.\\nNow that we have the differences between Classification and Regression algorithms plainly mapped out, it’s time to see how they relate to decision trees. But before we do that, we need to ask an important question.'),\n",
              "  0.03252247488101534),\n",
              " (Document(metadata={'type': 'html', 'source': 'https://www.simplilearn.com/regression-vs-classification-in-machine-learning-article'}, page_content='### Functionality\\n\\nClassification trees divide the dataset based on homogeneity, such as a pair of variables. For instance, we could use two variables such as age and gender. If the training data showed that 85 percent of men liked a specific movie, the data is split at that point, and gender becomes a top node in the tree. That division makes the information 85% pure.\\nThe Regression trees fit to the target variable using all the independent variables. The data of each independent variable is then divided at several points. The error between predicted and actual values gets squared at each point to arrive at a Sum of Squared Errors, or SSE. This SSE gets compared across all variables, and the point or variable with the lowest SSE becomes the split point, and the process continues recursively.\\n\\n### Regression vs. Classification: Advantages Over Standard Decision Trees'),\n",
              "  0.032266458495966696),\n",
              " (Document(metadata={'type': 'html', 'source': 'https://www.simplilearn.com/regression-vs-classification-in-machine-learning-article'}, page_content='### Regression vs. Classification: Advantages Over Standard Decision Trees\\n\\nBoth Classification and Regression decision trees generate accurate predictions using if-else conditions. Their benefits include:\\n- Simple results:\\xa0It’s easy to observe and classify these results, making them easier to evaluate or explain to other people.\\n- They’re non-linear and nonparametric:\\xa0Since both trees deal with simplistic results, they avoid implicit assumptions, making them well-suited for data mining functions.\\n- The trees implicitly perform feature selection:\\xa0Variable screening, also called feature selection, is vital for analytics. The top few nodes of the decision tree are the most important, so these decision trees automatically handle feature selection.\\n\\n### Drawbacks of Classification and Regression Trees\\n\\nNo system is perfect. Classification and Regression decision trees bring their own challenges and limitations.\\n- They’re prone to overfitting: Overfitting happens when a tree considers the noise found in most data and results in inaccuracies.\\n- They’re prone to high variance: Even a tiny variance in data can lead to a high variance in the resulting prediction, creating an unstable outcome.\\n- They typically have low bias: Complex decision trees have characteristically low bias, making adding new data difficult.\\n\\n## When to Use Regression vs. Classification'),\n",
              "  0.03200204813108039),\n",
              " (Document(metadata={'type': 'html', 'source': 'https://www.simplilearn.com/regression-vs-classification-in-machine-learning-article'}, page_content='## Classification in Machine Learning Explained\\n\\nOn the other hand, Classification is an algorithm that finds functions that help divide the dataset into classes based on various parameters. When using a Classification algorithm, a computer program gets taught on the training dataset and categorizes the data into various categories depending on what it learned.\\nClassification algorithms find the mapping function to map the “x” input to “y” discrete output. The algorithms estimate discrete values (in other words, binary values such as 0 and 1, yes and no, true or false, based on a particular set of independent variables. To put it another, more straightforward way, classification algorithms predict an event occurrence probability by fitting data to a logit function.\\nClassification algorithms are used for things like email and spam classification, predicting the willingness of bank customers to pay their loans, and identifying cancer tumor cells.\\n\\n## Types of Regression'),\n",
              "  0.031746031746031744),\n",
              " (Document(metadata={'source': 'https://lilianweng.github.io/posts/2023-06-23-agent/', 'type': 'html'}, page_content='Resources:\\n1. Internet access for searches and information gathering.\\n2. Long Term memory management.\\n3. GPT-3.5 powered Agents for delegation of simple tasks.\\n4. File output.\\n\\nPerformance Evaluation:\\n1. Continuously review and analyze your actions to ensure you are performing to the best of your abilities.\\n2. Constructively self-criticize your big-picture behavior constantly.\\n3. Reflect on past decisions and strategies to refine your approach.\\n4. Every command has a cost, so be smart and efficient. Aim to complete tasks in the least number of steps.'),\n",
              "  0.016666666666666666),\n",
              " (Document(metadata={'source': 'https://lilianweng.github.io/posts/2023-06-23-agent/', 'type': 'html'}, page_content='# Case Studies #\\n\\n## Scientific Discovery Agent #'),\n",
              "  0.01639344262295082),\n",
              " (Document(metadata={'type': 'html', 'source': 'https://www.simplilearn.com/regression-vs-classification-in-machine-learning-article'}, page_content='This image, courtesy of Javatpoint, illustrates Classification versus Regression algorithms.\\nThis table shows the specific differences between Regression vs. Classification algorithms.\\n[TABLE CELL] Regression Algorithms\\n[TABLE CELL] Classification Algorithms\\n[TABLE CELL] The output variable must be either continuous nature or real value.\\n[TABLE CELL] The output variable has to be a discrete value.\\n[TABLE CELL] The regression algorithm’s task is mapping input value (x) with continuous output variable (y).\\n[TABLE CELL] The classification algorithm’s task mapping the input value of x with the discrete output variable of y.\\n[TABLE CELL] They are used with continuous data.\\n[TABLE CELL] They are used with discrete data.\\n[TABLE CELL] It attempt to find the best fit line, which predicts the output more accurately.\\n[TABLE CELL] Classification tries to find the decision boundary, which divides the dataset into different classes.\\n[TABLE CELL] Regression algorithms solve regression problems such as house price predictions and weather predictions.\\n[TABLE CELL] Classification algorithms solve classification problems like identifying spam e-mails, spotting cancer cells, and speech recognition.\\n[TABLE CELL] We can further divide Regression algorithms into Linear and Non-linear Regression.'),\n",
              "  0.01639344262295082),\n",
              " (Document(metadata={'source': 'https://www.simplilearn.com/regression-vs-classification-in-machine-learning-article', 'type': 'html'}, page_content='## The Difference Between Regression vs. Classification'),\n",
              "  0.01639344262295082),\n",
              " (Document(metadata={'source': 'https://www.simplilearn.com/regression-vs-classification-in-machine-learning-article', 'type': 'html'}, page_content='This image, courtesy of Javatpoint, illustrates Classification versus Regression algorithms.\\nThis table shows the specific differences between Regression vs. Classification algorithms.\\n[TABLE CELL] Regression Algorithms\\n[TABLE CELL] Classification Algorithms\\n[TABLE CELL] The output variable must be either continuous nature or real value.\\n[TABLE CELL] The output variable has to be a discrete value.\\n[TABLE CELL] The regression algorithm’s task is mapping input value (x) with continuous output variable (y).\\n[TABLE CELL] The classification algorithm’s task mapping the input value of x with the discrete output variable of y.\\n[TABLE CELL] They are used with continuous data.\\n[TABLE CELL] They are used with discrete data.\\n[TABLE CELL] It attempt to find the best fit line, which predicts the output more accurately.\\n[TABLE CELL] Classification tries to find the decision boundary, which divides the dataset into different classes.\\n[TABLE CELL] Regression algorithms solve regression problems such as house price predictions and weather predictions.\\n[TABLE CELL] Classification algorithms solve classification problems like identifying spam e-mails, spotting cancer cells, and speech recognition.\\n[TABLE CELL] We can further divide Regression algorithms into Linear and Non-linear Regression.'),\n",
              "  0.016129032258064516),\n",
              " (Document(metadata={'type': 'html', 'source': 'https://lilianweng.github.io/posts/2023-06-23-agent/'}, page_content='Here are a sample conversation for task clarification sent to OpenAI ChatCompletion endpoint used by GPT-Engineer. The user inputs are wrapped in {{user input text}} .\\n[\\n {\\n \"role\": \"system\",\\n \"content\": \"You will read instructions and not carry them out, only seek to clarify them.\\\\nSpecifically you will first summarise a list of super short bullets of areas that need clarification.\\\\nThen you will pick one clarifying question, and wait for an answer from the user.\\\\n\"\\n },\\n {\\n \"role\": \"user\",\\n \"content\": \"We are writing {{a Super Mario game in python. MVC components split in separate files. Keyboard control.}}\\\\n\"\\n },\\n {\\n \"role\": \"assistant\",\\n \"content\": \"Summary of areas that need clarification:\\\\n1. Specifics of the Super Mario game (e.g. level design, characters, gameplay mechanics)\\\\n2. Details about the MVC components (e.g. which components are in each file)\\\\n3. Keyboard control implementation (e.g. which keys to use, how to handle input)\\\\n\\\\nClarifying question:\\\\nCan you provide more details about the Super Mario game, such as level design, characters, and gameplay mechanics?\"\\n },\\n {\\n \"role\": \"user\",'),\n",
              "  0.016129032258064516),\n",
              " (Document(metadata={'type': 'html', 'source': 'https://www.simplilearn.com/regression-vs-classification-in-machine-learning-article'}, page_content='Our machines are getting more intelligent and more capable of independent tasks, and they owe it to the rapidly growing fields of Artificial Intelligence and Machine Learning . However, both areas are incredibly complex and take time and effort to understand better.\\nThis article explores Regression vs. Classification in Machine Learning, including the definitions, types, differences, and use cases.\\nThe foremost leader in IT, IBM defines Machine Learning as “…a branch of artificial intelligence (AI) and computer science which focuses on the use of data and algorithms to imitate how humans learn, gradually improving its accuracy.”\\nBoth Regression and Classification algorithms are known as Supervised Learning algorithms and are used to predict in Machine learning and work with labeled datasets. However, their differing approach to Machine Learning problems is their point of divergence.\\nNow let’s take an in-depth look into Regression vs Classification.\\n\\n## Regression in Machine Learning Explained\\n\\nRegression finds correlations between dependent and independent variables. Therefore, regression algorithms help predict continuous variables such as house prices, market trends, weather patterns, oil and gas prices (a critical task these days!), etc.\\nThe Regression algorithm’s task is finding the mapping function so we can map the input variable of “x” to the continuous output variable of “y.”\\n\\n## Classification in Machine Learning Explained'),\n",
              "  0.016129032258064516),\n",
              " (Document(metadata={'source': 'https://www.simplilearn.com/regression-vs-classification-in-machine-learning-article', 'type': 'html'}, page_content='### Regression vs. Classification: Advantages Over Standard Decision Trees\\n\\nBoth Classification and Regression decision trees generate accurate predictions using if-else conditions. Their benefits include:\\n- Simple results:\\xa0It’s easy to observe and classify these results, making them easier to evaluate or explain to other people.\\n- They’re non-linear and nonparametric:\\xa0Since both trees deal with simplistic results, they avoid implicit assumptions, making them well-suited for data mining functions.\\n- The trees implicitly perform feature selection:\\xa0Variable screening, also called feature selection, is vital for analytics. The top few nodes of the decision tree are the most important, so these decision trees automatically handle feature selection.\\n\\n### Drawbacks of Classification and Regression Trees\\n\\nNo system is perfect. Classification and Regression decision trees bring their own challenges and limitations.\\n- They’re prone to overfitting: Overfitting happens when a tree considers the noise found in most data and results in inaccuracies.\\n- They’re prone to high variance: Even a tiny variance in data can lead to a high variance in the resulting prediction, creating an unstable outcome.\\n- They typically have low bias: Complex decision trees have characteristically low bias, making adding new data difficult.\\n\\n## When to Use Regression vs. Classification'),\n",
              "  0.015873015873015872),\n",
              " (Document(metadata={'source': 'https://lilianweng.github.io/posts/2023-06-23-agent/', 'type': 'html'}, page_content='## Self-Reflection #'),\n",
              "  0.015873015873015872)]"
            ]
          },
          "metadata": {},
          "execution_count": 13
        }
      ],
      "source": [
        "from langchain.load import dumps, loads\n",
        "\n",
        "def reciprocal_rank_fusion(results: list[list], k=60):\n",
        "    \"\"\" Reciprocal_rank_fusion that takes multiple lists of ranked documents\n",
        "        and an optional parameter k used in the RRF formula \"\"\"\n",
        "\n",
        "    # Initialize a dictionary to hold fused scores for each unique document\n",
        "    fused_scores = {}\n",
        "\n",
        "    # Iterate through each list of ranked documents\n",
        "    for docs in results:\n",
        "        # Iterate through each document in the list, with its rank (position in the list)\n",
        "        for rank, doc in enumerate(docs):\n",
        "            # Convert the document to a string format to use as a key (assumes documents can be serialized to JSON)\n",
        "            doc_str = dumps(doc)\n",
        "            # If the document is not yet in the fused_scores dictionary, add it with an initial score of 0\n",
        "            if doc_str not in fused_scores:\n",
        "                fused_scores[doc_str] = 0\n",
        "            # Retrieve the current score of the document, if any\n",
        "            previous_score = fused_scores[doc_str]\n",
        "            # Update the score of the document using the RRF formula: 1 / (rank + k)\n",
        "            fused_scores[doc_str] += 1 / (rank + k)\n",
        "\n",
        "    # Sort the documents based on their fused scores in descending order to get the final reranked results\n",
        "    reranked_results = [\n",
        "        (loads(doc), score)\n",
        "        for doc, score in sorted(fused_scores.items(), key=lambda x: x[1], reverse=True)\n",
        "    ]\n",
        "\n",
        "    # Return the reranked results as a list of tuples, each containing the document and its fused score\n",
        "    return reranked_results\n",
        "\n",
        "retrieval_chain_rag_fusion = generate_queries | retriever.map() | reciprocal_rank_fusion\n",
        "docs = retrieval_chain_rag_fusion.invoke({\"question\": question})\n",
        "docs"
      ]
    },
    {
      "cell_type": "code",
      "execution_count": 14,
      "id": "ce2adf2d-3d9f-4d43-afb0-8304edcfb1f1",
      "metadata": {
        "colab": {
          "base_uri": "https://localhost:8080/",
          "height": 128
        },
        "id": "ce2adf2d-3d9f-4d43-afb0-8304edcfb1f1",
        "outputId": "9267c057-47aa-4e16-c2cb-292917a84ac1"
      },
      "outputs": [
        {
          "output_type": "execute_result",
          "data": {
            "text/plain": [
              "'Based on the provided documents, here are five differences between Regression and Classification algorithms:\\n\\n1.  **Output Variable Type:** Regression algorithms predict a continuous output variable (real value), while classification algorithms predict a discrete output variable.\\n2.  **Task:** Regression algorithms map an input value (x) to a continuous output variable (y), while classification algorithms map an input value (x) to a discrete output variable (y).\\n3.  **Data Type:** Regression algorithms are used with continuous data, while classification algorithms are used with discrete data.\\n4.  **Goal:** Regression attempts to find the best-fit line to predict the output accurately, while classification tries to find the decision boundary that divides the dataset into different classes.\\n5.  **Problem Solving:** Regression algorithms solve regression problems like house price prediction and weather prediction, while classification algorithms solve classification problems like identifying spam emails, spotting cancer cells, and speech recognition.'"
            ],
            "application/vnd.google.colaboratory.intrinsic+json": {
              "type": "string"
            }
          },
          "metadata": {},
          "execution_count": 14
        }
      ],
      "source": [
        "from langchain_core.runnables import RunnablePassthrough\n",
        "\n",
        "# RAG\n",
        "template = \"\"\"Answer the following question based on this context:\n",
        "\n",
        "{context}\n",
        "\n",
        "Question: {question}\n",
        "\"\"\"\n",
        "\n",
        "prompt = ChatPromptTemplate.from_template(template)\n",
        "\n",
        "final_rag_chain = (\n",
        "    {\"context\": retrieval_chain_rag_fusion,\n",
        "     \"question\": itemgetter(\"question\")}\n",
        "    | prompt\n",
        "    | llm\n",
        "    | StrOutputParser()\n",
        ")\n",
        "\n",
        "final_rag_chain.invoke({\"question\":question})"
      ]
    },
    {
      "cell_type": "markdown",
      "id": "533c59f3-a85f-4094-b66b-8bdc400acab6",
      "metadata": {
        "id": "533c59f3-a85f-4094-b66b-8bdc400acab6"
      },
      "source": [
        "Trace:\n",
        "\n",
        "https://smith.langchain.com/public/071202c9-9f4d-41b1-bf9d-86b7c5a7525b/r"
      ]
    },
    {
      "cell_type": "markdown",
      "id": "94c812d3-4d91-4634-8301-0b68be88a887",
      "metadata": {
        "id": "94c812d3-4d91-4634-8301-0b68be88a887"
      },
      "source": [
        "## Part 7: Decomposition"
      ]
    },
    {
      "cell_type": "code",
      "execution_count": 15,
      "id": "f82fac99-58dc-4bb9-84e6-51180db855ad",
      "metadata": {
        "id": "f82fac99-58dc-4bb9-84e6-51180db855ad"
      },
      "outputs": [],
      "source": [
        "from langchain.prompts import ChatPromptTemplate\n",
        "\n",
        "# Decomposition\n",
        "template = \"\"\"You are a helpful assistant that generates multiple sub-questions related to an input question. \\n\n",
        "The goal is to break down the input into a set of sub-problems / sub-questions that can be answers in isolation. \\n\n",
        "Generate multiple search queries related to: {question} \\n\n",
        "Output (3 queries):\"\"\"\n",
        "prompt_decomposition = ChatPromptTemplate.from_template(template)"
      ]
    },
    {
      "cell_type": "code",
      "execution_count": 16,
      "id": "c31eefd9-5598-44a1-b0d6-dd04553a3eb4",
      "metadata": {
        "id": "c31eefd9-5598-44a1-b0d6-dd04553a3eb4"
      },
      "outputs": [],
      "source": [
        "from langchain_google_genai import ChatGoogleGenerativeAI\n",
        "from langchain_core.output_parsers import StrOutputParser\n",
        "\n",
        "# LLM\n",
        "llm = ChatGoogleGenerativeAI(model=\"gemini-2.0-flash\",temperature=0)\n",
        "\n",
        "# Chain\n",
        "generate_queries_decomposition = ( prompt_decomposition | llm | StrOutputParser() | (lambda x: x.split(\"\\n\")))\n",
        "\n",
        "# Run\n",
        "question = \"What is Regression in machine learning\"\n",
        "questions = generate_queries_decomposition.invoke({\"question\":question})"
      ]
    },
    {
      "cell_type": "code",
      "execution_count": 17,
      "id": "07191b5c-cf72-4b8f-a225-f57dfdc2fc78",
      "metadata": {
        "colab": {
          "base_uri": "https://localhost:8080/"
        },
        "id": "07191b5c-cf72-4b8f-a225-f57dfdc2fc78",
        "outputId": "701e9245-c01a-4a68-bd9f-c5557f735e4f"
      },
      "outputs": [
        {
          "output_type": "execute_result",
          "data": {
            "text/plain": [
              "['1. **What is the mathematical definition of regression in machine learning?** (Focuses on the underlying mathematical principles)',\n",
              " '2. **What are the different types of regression algorithms in machine learning?** (Explores the various techniques used)',\n",
              " '3. **What are the common applications of regression in real-world scenarios?** (Focuses on practical uses)']"
            ]
          },
          "metadata": {},
          "execution_count": 17
        }
      ],
      "source": [
        "questions"
      ]
    },
    {
      "cell_type": "markdown",
      "id": "19543d04-ff31-4774-b89c-9d31f5a28fc9",
      "metadata": {
        "id": "19543d04-ff31-4774-b89c-9d31f5a28fc9"
      },
      "source": [
        "\n",
        "Papers:\n",
        "\n",
        "* https://arxiv.org/pdf/2205.10625.pdf\n",
        "* https://arxiv.org/abs/2212.10509.pdf"
      ]
    },
    {
      "cell_type": "code",
      "execution_count": 18,
      "id": "c72bbd12-f85c-4ed0-9dfa-8503afebfafa",
      "metadata": {
        "id": "c72bbd12-f85c-4ed0-9dfa-8503afebfafa"
      },
      "outputs": [],
      "source": [
        "# Prompt\n",
        "template = \"\"\"Here is the question you need to answer:\n",
        "\n",
        "\\n --- \\n {question} \\n --- \\n\n",
        "\n",
        "Here is any available background question + answer pairs:\n",
        "\n",
        "\\n --- \\n {q_a_pairs} \\n --- \\n\n",
        "\n",
        "Here is additional context relevant to the question:\n",
        "\n",
        "\\n --- \\n {context} \\n --- \\n\n",
        "\n",
        "Use the above context and any background question + answer pairs to answer the question: \\n {question}\n",
        "\"\"\"\n",
        "\n",
        "decomposition_prompt = ChatPromptTemplate.from_template(template)"
      ]
    },
    {
      "cell_type": "code",
      "execution_count": 19,
      "id": "a20bf0d4-f567-4451-834d-a07190a3185e",
      "metadata": {
        "colab": {
          "base_uri": "https://localhost:8080/"
        },
        "id": "a20bf0d4-f567-4451-834d-a07190a3185e",
        "outputId": "3f5ed624-3dda-4e44-a877-fbd2ebee64cc"
      },
      "outputs": [
        {
          "output_type": "stream",
          "name": "stdout",
          "text": [
            "Question: 1. **What is the mathematical definition of regression in machine learning?** (Focuses on the underlying mathematical principles)\n",
            "Answer: In machine learning, regression is a supervised learning technique that aims to model the relationship between a dependent variable (or target variable), denoted as *y*, and one or more independent variables (or features), denoted as *x*. Mathematically, the goal of regression is to find a function *f(x)* that maps the input variables *x* to a continuous output variable *y*. This function *f(x)* is often expressed as:\n",
            "\n",
            "*y* = *f(x)* + ε\n",
            "\n",
            "where:\n",
            "\n",
            "*   *y* is the dependent variable (the value we want to predict).\n",
            "*   *x* is the independent variable (or a vector of independent variables).\n",
            "*   *f(x)* is the regression function, which represents the relationship between *x* and *y*.  This function can take various forms (linear, polynomial, etc.) depending on the chosen regression model.\n",
            "*   ε is the error term (also known as noise or residual), representing the difference between the actual value of *y* and the value predicted by the model *f(x)*.  It accounts for the variability in *y* that is not explained by *x*.\n",
            "\n",
            "The core task in regression is to estimate the function *f(x)* that minimizes a chosen loss function.  Common loss functions include:\n",
            "\n",
            "*   **Mean Squared Error (MSE):**  MSE = (1/n) * Σ(*yᵢ* - *f(xᵢ*))²  (where n is the number of data points, *yᵢ* is the actual value, and *f(xᵢ)* is the predicted value for the i-th data point).  MSE is often used in linear regression.\n",
            "*   **Root Mean Squared Error (RMSE):**  RMSE = √MSE\n",
            "*   **Mean Absolute Error (MAE):** MAE = (1/n) * Σ|*yᵢ* - *f(xᵢ*)|\n",
            "\n",
            "The specific form of *f(x)* depends on the type of regression being used (e.g., linear regression, polynomial regression, support vector regression). The parameters of *f(x)* are learned from the training data by minimizing the chosen loss function. The goal is to find the function that best fits the data and generalizes well to unseen data.\n",
            "Question: 2. **What are the different types of regression algorithms in machine learning?** (Explores the various techniques used)\n",
            "Answer: There are several types of regression algorithms in machine learning, each suited for different types of data and prediction tasks. Here's a breakdown of some common types:\n",
            "\n",
            "*   **Linear Regression:** This is the simplest form of regression, modeling the relationship between the dependent variable and one or more independent variables using a linear equation.\n",
            "\n",
            "*   **Polynomial Regression:** This type of regression fits a non-linear relationship between the dependent and independent variables by using polynomial functions of the independent variable.\n",
            "\n",
            "*   **Support Vector Regression (SVR):** SVR can solve both linear and non-linear regression problems. It uses non-linear kernel functions (like polynomials) to find an optimal solution for non-linear models.\n",
            "\n",
            "*   **Decision Tree Regression:** This algorithm divides the dataset into smaller subsets to create a tree-like structure for prediction.\n",
            "\n",
            "*   **Random Forest Regression:** This is an ensemble method that uses multiple decision trees to improve prediction accuracy and reduce overfitting.  It builds multiple decision trees on random subsets of the data and averages their predictions.\n",
            "\n",
            "*   **Principal Components Regression:** This technique is used when there are many independent variables or multicollinearity exists in the data.\n",
            "Question: 3. **What are the common applications of regression in real-world scenarios?** (Focuses on practical uses)\n",
            "Answer: Regression analysis is a versatile tool with numerous applications across various fields. Here are some common real-world scenarios where regression is used:\n",
            "\n",
            "*   **Economics and Finance:**\n",
            "    *   **Predicting stock prices:** Regression models can be used to analyze historical stock data and other economic indicators to forecast future stock prices.\n",
            "    *   **Forecasting economic growth:** Governments and financial institutions use regression to predict GDP growth, inflation rates, and unemployment rates.\n",
            "    *   **Credit risk assessment:** Banks use regression models to assess the creditworthiness of loan applicants by analyzing their financial history and other relevant factors.\n",
            "    *   **Real estate appraisal:** Estimating property values based on location, size, features, and comparable sales data.\n",
            "\n",
            "*   **Marketing and Sales:**\n",
            "    *   **Sales forecasting:** Predicting future sales based on past sales data, marketing campaigns, and economic conditions.\n",
            "    *   **Customer behavior analysis:** Understanding how marketing efforts and other factors influence customer purchasing decisions.\n",
            "    *   **Price optimization:** Determining the optimal pricing strategy to maximize revenue.\n",
            "\n",
            "*   **Healthcare:**\n",
            "    *   **Predicting disease risk:** Identifying risk factors for diseases like heart disease or diabetes based on patient data.\n",
            "    *   **Drug response prediction:** Predicting how patients will respond to different drugs based on their genetic makeup and other characteristics.\n",
            "    *   **Analyzing the effectiveness of treatments:** Evaluating the impact of medical interventions on patient outcomes.\n",
            "\n",
            "*   **Environmental Science:**\n",
            "    *   **Predicting air and water quality:** Modeling the relationship between pollution sources and environmental quality.\n",
            "    *   **Forecasting weather patterns:** Predicting temperature, rainfall, and other weather variables.\n",
            "    *   **Climate change modeling:** Analyzing the impact of greenhouse gas emissions on global temperatures.\n",
            "\n",
            "*   **Engineering:**\n",
            "    *   **Predicting structural integrity:** Assessing the strength and durability of bridges, buildings, and other structures.\n",
            "    *   **Quality control:** Identifying factors that affect product quality and optimizing manufacturing processes.\n",
            "    *   **Predicting equipment failure:** Determining when equipment is likely to fail and scheduling maintenance accordingly.\n",
            "\n",
            "*   **Other Applications:**\n",
            "    *   **Insurance:** Predicting the likelihood of claims and setting premiums.\n",
            "    *   **Sports analytics:** Predicting player performance and game outcomes.\n",
            "    *   **Education:** Predicting student performance and identifying factors that contribute to academic success.\n",
            "\n",
            "In essence, regression is used whenever there's a need to understand and predict the relationship between a dependent variable and one or more independent variables. The goal is to build a model that can accurately estimate the value of the dependent variable based on the values of the independent variables.\n"
          ]
        }
      ],
      "source": [
        "from operator import itemgetter\n",
        "from langchain_core.output_parsers import StrOutputParser\n",
        "\n",
        "def format_qa_pair(question, answer):\n",
        "    \"\"\"Format Q and A pair\"\"\"\n",
        "\n",
        "    formatted_string = \"\"\n",
        "    formatted_string += f\"Question: {question}\\nAnswer: {answer}\\n\\n\"\n",
        "    return formatted_string.strip()\n",
        "\n",
        "# llm\n",
        "llm = ChatGoogleGenerativeAI(model=\"gemini-2.0-flash\", temperature=0)\n",
        "\n",
        "q_a_pairs = \"\"\n",
        "for q in questions:\n",
        "\n",
        "    rag_chain = (\n",
        "    {\"context\": itemgetter(\"question\") | retriever,\n",
        "     \"question\": itemgetter(\"question\"),\n",
        "     \"q_a_pairs\": itemgetter(\"q_a_pairs\")}\n",
        "    | decomposition_prompt\n",
        "    | llm\n",
        "    | StrOutputParser())\n",
        "\n",
        "    answer = rag_chain.invoke({\"question\":q,\"q_a_pairs\":q_a_pairs})\n",
        "    q_a_pair = format_qa_pair(q,answer)\n",
        "    q_a_pairs = q_a_pairs + \"\\n---\\n\"+  q_a_pair\n",
        "    print(q_a_pair)"
      ]
    },
    {
      "cell_type": "code",
      "execution_count": 20,
      "id": "e6070fea-ffcf-49ca-ac99-7d7ed2744d40",
      "metadata": {
        "colab": {
          "base_uri": "https://localhost:8080/",
          "height": 128
        },
        "id": "e6070fea-ffcf-49ca-ac99-7d7ed2744d40",
        "outputId": "ee2fc8a2-62ed-45ba-de22-8dd16f202f89"
      },
      "outputs": [
        {
          "output_type": "execute_result",
          "data": {
            "text/plain": [
              "\"Regression analysis is a versatile tool with numerous applications across various fields. Here are some common real-world scenarios where regression is used:\\n\\n*   **Economics and Finance:**\\n    *   **Predicting stock prices:** Regression models can be used to analyze historical stock data and other economic indicators to forecast future stock prices.\\n    *   **Forecasting economic growth:** Governments and financial institutions use regression to predict GDP growth, inflation rates, and unemployment rates.\\n    *   **Credit risk assessment:** Banks use regression models to assess the creditworthiness of loan applicants by analyzing their financial history and other relevant factors.\\n    *   **Real estate appraisal:** Estimating property values based on location, size, features, and comparable sales data.\\n\\n*   **Marketing and Sales:**\\n    *   **Sales forecasting:** Predicting future sales based on past sales data, marketing campaigns, and economic conditions.\\n    *   **Customer behavior analysis:** Understanding how marketing efforts and other factors influence customer purchasing decisions.\\n    *   **Price optimization:** Determining the optimal pricing strategy to maximize revenue.\\n\\n*   **Healthcare:**\\n    *   **Predicting disease risk:** Identifying risk factors for diseases like heart disease or diabetes based on patient data.\\n    *   **Drug response prediction:** Predicting how patients will respond to different drugs based on their genetic makeup and other characteristics.\\n    *   **Analyzing the effectiveness of treatments:** Evaluating the impact of medical interventions on patient outcomes.\\n\\n*   **Environmental Science:**\\n    *   **Predicting air and water quality:** Modeling the relationship between pollution sources and environmental quality.\\n    *   **Forecasting weather patterns:** Predicting temperature, rainfall, and other weather variables.\\n    *   **Climate change modeling:** Analyzing the impact of greenhouse gas emissions on global temperatures.\\n\\n*   **Engineering:**\\n    *   **Predicting structural integrity:** Assessing the strength and durability of bridges, buildings, and other structures.\\n    *   **Quality control:** Identifying factors that affect product quality and optimizing manufacturing processes.\\n    *   **Predicting equipment failure:** Determining when equipment is likely to fail and scheduling maintenance accordingly.\\n\\n*   **Other Applications:**\\n    *   **Insurance:** Predicting the likelihood of claims and setting premiums.\\n    *   **Sports analytics:** Predicting player performance and game outcomes.\\n    *   **Education:** Predicting student performance and identifying factors that contribute to academic success.\\n\\nIn essence, regression is used whenever there's a need to understand and predict the relationship between a dependent variable and one or more independent variables. The goal is to build a model that can accurately estimate the value of the dependent variable based on the values of the independent variables.\""
            ],
            "application/vnd.google.colaboratory.intrinsic+json": {
              "type": "string"
            }
          },
          "metadata": {},
          "execution_count": 20
        }
      ],
      "source": [
        "answer"
      ]
    },
    {
      "cell_type": "markdown",
      "id": "c3e13879-bb8f-43be-acb8-3dc3c41dabb2",
      "metadata": {
        "id": "c3e13879-bb8f-43be-acb8-3dc3c41dabb2"
      },
      "source": [
        "Trace:\n",
        "\n",
        "Question 1: https://smith.langchain.com/public/faefde73-0ecb-4328-8fee-a237904115c0/r\n",
        "\n",
        "Question 2: https://smith.langchain.com/public/6142cad3-b314-454e-b2c9-15146cfcce78/r\n",
        "\n",
        "Question 3: https://smith.langchain.com/public/84bdca0f-0fa4-46d4-9f89-a7f25bd857fe/r"
      ]
    },
    {
      "cell_type": "markdown",
      "id": "eb0fa2e4-d4f1-42fc-a1ad-8eaeb05a0d3e",
      "metadata": {
        "id": "eb0fa2e4-d4f1-42fc-a1ad-8eaeb05a0d3e"
      },
      "source": [
        "### Answer individually\n"
      ]
    },
    {
      "cell_type": "code",
      "execution_count": 21,
      "id": "297425fa-975b-4599-9b9e-a11139b99140",
      "metadata": {
        "colab": {
          "base_uri": "https://localhost:8080/"
        },
        "id": "297425fa-975b-4599-9b9e-a11139b99140",
        "outputId": "59c0ba5b-2b37-4947-c43a-6c5f705a3de2"
      },
      "outputs": [
        {
          "output_type": "stream",
          "name": "stderr",
          "text": [
            "/tmp/ipython-input-21-1243203956.py:24: LangChainDeprecationWarning: The method `BaseRetriever.get_relevant_documents` was deprecated in langchain-core 0.1.46 and will be removed in 1.0. Use :meth:`~invoke` instead.\n",
            "  retrieved_docs = retriever.get_relevant_documents(sub_question)\n"
          ]
        },
        {
          "output_type": "stream",
          "name": "stdout",
          "text": [
            "1. **What is the mathematical definition of regression in machine learning?** (Focuses on the underlying mathematical principles)\n",
            "Regression algorithms find correlations between dependent and independent variables. The algorithm's task is to find the mapping function so we can map the input variable \"x\" to the continuous output variable \"y.\" It attempts to find the best fit line, which predicts the output more accurately.\n",
            "2. **What are the different types of regression algorithms in machine learning?** (Explores the various techniques used)\n",
            "The different types of regression algorithms include Decision Tree Regression, Principal Components Regression, Polynomial Regression, and Random Forest Regression. Other types are Simple Linear Regression and Support Vector Regression. These algorithms vary in complexity and approach, suitable for different types of data and prediction tasks.\n",
            "3. **What are the common applications of regression in real-world scenarios?** (Focuses on practical uses)\n",
            "Regression algorithms are used for tasks like house price and weather predictions. They work by finding the best-fit line to predict continuous output values. These algorithms are further divided into linear and non-linear regression types.\n"
          ]
        }
      ],
      "source": [
        "# Answer each sub-question individually\n",
        "\n",
        "from langchain import hub\n",
        "from langchain_core.prompts import ChatPromptTemplate\n",
        "from langchain_core.runnables import RunnablePassthrough, RunnableLambda\n",
        "from langchain_core.output_parsers import StrOutputParser\n",
        "from langchain_google_genai import ChatGoogleGenerativeAI\n",
        "\n",
        "# RAG prompt\n",
        "prompt_rag = hub.pull(\"rlm/rag-prompt\")\n",
        "\n",
        "def retrieve_and_rag(question,prompt_rag,sub_question_generator_chain):\n",
        "    \"\"\"RAG on each sub-question\"\"\"\n",
        "\n",
        "    # Use our decomposition /\n",
        "    sub_questions = sub_question_generator_chain.invoke({\"question\":question})\n",
        "\n",
        "    # Initialize a list to hold RAG chain results\n",
        "    rag_results = []\n",
        "\n",
        "    for sub_question in sub_questions:\n",
        "\n",
        "        # Retrieve documents for each sub-question\n",
        "        retrieved_docs = retriever.get_relevant_documents(sub_question)\n",
        "\n",
        "        # Use retrieved documents and sub-question in RAG chain\n",
        "        answer = (prompt_rag | llm | StrOutputParser()).invoke({\"context\": retrieved_docs,\n",
        "                                                                \"question\": sub_question})\n",
        "        rag_results.append(answer)\n",
        "        print(sub_question)\n",
        "        print(answer)\n",
        "    return rag_results,sub_questions\n",
        "\n",
        "# Wrap the retrieval and RAG process in a RunnableLambda for integration into a chain\n",
        "answers, questions = retrieve_and_rag(question, prompt_rag, generate_queries_decomposition)"
      ]
    },
    {
      "cell_type": "code",
      "execution_count": 22,
      "id": "b8631dda-bbcd-437c-81b3-5db7abb831f9",
      "metadata": {
        "colab": {
          "base_uri": "https://localhost:8080/",
          "height": 278
        },
        "id": "b8631dda-bbcd-437c-81b3-5db7abb831f9",
        "outputId": "406d3e63-8527-44de-90ff-5701c97637bb"
      },
      "outputs": [
        {
          "output_type": "stream",
          "name": "stdout",
          "text": [
            "Question 1: 1. **What is the mathematical definition of regression in machine learning?** (Focuses on the underlying mathematical principles)\n",
            "Answer 1: Regression algorithms find correlations between dependent and independent variables. The algorithm's task is to find the mapping function so we can map the input variable \"x\" to the continuous output variable \"y.\" It attempts to find the best fit line, which predicts the output more accurately.\n",
            "\n",
            "Question 2: 2. **What are the different types of regression algorithms in machine learning?** (Explores the various techniques used)\n",
            "Answer 2: The different types of regression algorithms include Decision Tree Regression, Principal Components Regression, Polynomial Regression, and Random Forest Regression. Other types are Simple Linear Regression and Support Vector Regression. These algorithms vary in complexity and approach, suitable for different types of data and prediction tasks.\n",
            "\n",
            "Question 3: 3. **What are the common applications of regression in real-world scenarios?** (Focuses on practical uses)\n",
            "Answer 3: Regression algorithms are used for tasks like house price and weather predictions. They work by finding the best-fit line to predict continuous output values. These algorithms are further divided into linear and non-linear regression types.\n"
          ]
        },
        {
          "output_type": "execute_result",
          "data": {
            "text/plain": [
              "'Regression in machine learning is a process of finding correlations between dependent and independent variables, aiming to map input variables (x) to a continuous output variable (y). The core task is to find a mapping function, often represented as a \"best fit line,\" that accurately predicts the output. There are various regression algorithms, including Simple Linear Regression, Polynomial Regression, Decision Tree Regression, Random Forest Regression, Principal Components Regression, and Support Vector Regression, each suited for different data types and prediction complexities. Regression finds practical application in real-world scenarios like predicting house prices and weather patterns by identifying the best-fit line to estimate continuous output values. These algorithms can be broadly categorized into linear and non-linear types.'"
            ],
            "application/vnd.google.colaboratory.intrinsic+json": {
              "type": "string"
            }
          },
          "metadata": {},
          "execution_count": 22
        }
      ],
      "source": [
        "def format_qa_pairs(questions, answers):\n",
        "    \"\"\"Format Q and A pairs\"\"\"\n",
        "\n",
        "    formatted_string = \"\"\n",
        "    for i, (question, answer) in enumerate(zip(questions, answers), start=1):\n",
        "        formatted_string += f\"Question {i}: {question}\\nAnswer {i}: {answer}\\n\\n\"\n",
        "    return formatted_string.strip()\n",
        "\n",
        "context = format_qa_pairs(questions, answers)\n",
        "print(context)\n",
        "# Prompt\n",
        "template = \"\"\"Here is a set of Q+A pairs:\n",
        "\n",
        "{context}\n",
        "\n",
        "Use these to synthesize an answer to the question: {question}\n",
        "\"\"\"\n",
        "\n",
        "prompt = ChatPromptTemplate.from_template(template)\n",
        "\n",
        "final_rag_chain = (\n",
        "    prompt\n",
        "    | llm\n",
        "    | StrOutputParser()\n",
        ")\n",
        "\n",
        "final_rag_chain.invoke({\"context\":context,\"question\":question})"
      ]
    },
    {
      "cell_type": "markdown",
      "id": "17698863-e683-48f4-b50e-adaa2bdee55d",
      "metadata": {
        "id": "17698863-e683-48f4-b50e-adaa2bdee55d"
      },
      "source": [
        "Trace:\n",
        "\n",
        "https://smith.langchain.com/public/d8f26f75-3fb8-498a-a3a2-6532aa77f56b/r"
      ]
    },
    {
      "cell_type": "markdown",
      "id": "6126bebb-94e5-48ef-9a17-6a315ed0a596",
      "metadata": {
        "id": "6126bebb-94e5-48ef-9a17-6a315ed0a596"
      },
      "source": [
        "## Part 8: Step Back\n",
        "\n",
        "\n",
        "Paper:\n",
        "\n",
        "* https://arxiv.org/pdf/2310.06117.pdf"
      ]
    },
    {
      "cell_type": "code",
      "execution_count": 23,
      "id": "1d74f9f2-543d-4e41-b90b-7bb527eca1d9",
      "metadata": {
        "id": "1d74f9f2-543d-4e41-b90b-7bb527eca1d9"
      },
      "outputs": [],
      "source": [
        "# Few Shot Examples\n",
        "from langchain_core.prompts import ChatPromptTemplate, FewShotChatMessagePromptTemplate\n",
        "examples = [\n",
        "    {\n",
        "        \"input\": \"Could the members of The Police perform lawful arrests?\",\n",
        "        \"output\": \"what can the members of The Police do?\",\n",
        "    },\n",
        "    {\n",
        "        \"input\": \"Jan Sindel’s was born in what country?\",\n",
        "        \"output\": \"what is Jan Sindel’s personal history?\",\n",
        "    },\n",
        "]\n",
        "# We now transform these to example messages\n",
        "example_prompt = ChatPromptTemplate.from_messages(\n",
        "    [\n",
        "        (\"human\", \"{input}\"),\n",
        "        (\"ai\", \"{output}\"),\n",
        "    ]\n",
        ")\n",
        "few_shot_prompt = FewShotChatMessagePromptTemplate(\n",
        "    example_prompt=example_prompt,\n",
        "    examples=examples,\n",
        ")\n",
        "prompt = ChatPromptTemplate.from_messages(\n",
        "    [\n",
        "        (\n",
        "            \"system\",\n",
        "            \"\"\"You are an expert at world knowledge. Your task is to step back and paraphrase a question to a more generic step-back question, which is easier to answer. Here are a few examples:\"\"\",\n",
        "        ),\n",
        "        # Few shot examples\n",
        "        few_shot_prompt,\n",
        "        # New question\n",
        "        (\"user\", \"{question}\"),\n",
        "    ]\n",
        ")"
      ]
    },
    {
      "cell_type": "code",
      "execution_count": 25,
      "id": "5cba100d-167f-4392-8f58-88729d3e4ce9",
      "metadata": {
        "colab": {
          "base_uri": "https://localhost:8080/",
          "height": 36
        },
        "id": "5cba100d-167f-4392-8f58-88729d3e4ce9",
        "outputId": "e82027dd-ae39-4599-d2d7-f1f3ec75cdc2"
      },
      "outputs": [
        {
          "output_type": "execute_result",
          "data": {
            "text/plain": [
              "'What is decision tree?'"
            ],
            "application/vnd.google.colaboratory.intrinsic+json": {
              "type": "string"
            }
          },
          "metadata": {},
          "execution_count": 25
        }
      ],
      "source": [
        "generate_queries_step_back = prompt | ChatGoogleGenerativeAI(model=\"gemini-2.0-flash\",temperature=0) | StrOutputParser()\n",
        "question = \"explain decision tree regression model and how it works\"\n",
        "generate_queries_step_back.invoke({\"question\": question})"
      ]
    },
    {
      "cell_type": "code",
      "execution_count": 26,
      "id": "999445b0-d8a0-4208-9bb6-38610667a00b",
      "metadata": {
        "colab": {
          "base_uri": "https://localhost:8080/",
          "height": 128
        },
        "id": "999445b0-d8a0-4208-9bb6-38610667a00b",
        "outputId": "099fd136-0a50-414f-a229-6dc8b6187ad4"
      },
      "outputs": [
        {
          "output_type": "execute_result",
          "data": {
            "text/plain": [
              "\"A decision tree regression model is a type of supervised machine learning algorithm used for predicting continuous values. It works by partitioning the data into smaller subsets based on a series of if-else conditions, ultimately creating a tree-like structure that can be used to predict the value of a target variable.\\n\\nHere's a breakdown of how it works:\\n\\n1.  **Data Preparation:** The model is trained on a dataset containing independent variables (features) and a continuous dependent variable (target).\\n2.  **Tree Building:**\\n    *   The algorithm starts by considering all independent variables and potential split points for each variable.\\n    *   For each split point, it divides the data into two subsets.\\n    *   It then calculates the Sum of Squared Errors (SSE) for each split. The SSE measures the difference between the predicted values and the actual values in each subset.\\n    *   The variable and split point that result in the lowest SSE are chosen as the split for the current node.\\n    *   This process is repeated recursively for each subset, creating new branches and nodes in the tree.\\n3.  **Stopping Criteria:** The tree growth continues until a predefined stopping criterion is met. This could be a maximum tree depth, a minimum number of samples in a node, or a threshold for the SSE reduction.\\n4.  **Prediction:** To predict the value for a new data point, the algorithm traverses the tree from the root node down to a leaf node. At each node, it evaluates the if-else condition based on the data point's value for the corresponding variable. The prediction is the average of the target variable values of the training data points that fall into that leaf node.\\n\\nIn essence, decision tree regression divides the data space into smaller, more manageable regions, and then fits a simple model (the average of the target values) within each region.\""
            ],
            "application/vnd.google.colaboratory.intrinsic+json": {
              "type": "string"
            }
          },
          "metadata": {},
          "execution_count": 26
        }
      ],
      "source": [
        "# Response prompt\n",
        "response_prompt_template = \"\"\"You are an expert of world knowledge. I am going to ask you a question. Your response should be comprehensive and not contradicted with the following context if they are relevant. Otherwise, ignore them if they are not relevant.\n",
        "\n",
        "# {normal_context}\n",
        "# {step_back_context}\n",
        "\n",
        "# Original Question: {question}\n",
        "# Answer:\"\"\"\n",
        "response_prompt = ChatPromptTemplate.from_template(response_prompt_template)\n",
        "\n",
        "chain = (\n",
        "    {\n",
        "        # Retrieve context using the normal question\n",
        "        \"normal_context\": RunnableLambda(lambda x: x[\"question\"]) | retriever,\n",
        "        # Retrieve context using the step-back question\n",
        "        \"step_back_context\": generate_queries_step_back | retriever,\n",
        "        # Pass on the question\n",
        "        \"question\": lambda x: x[\"question\"],\n",
        "    }\n",
        "    | response_prompt\n",
        "    | ChatGoogleGenerativeAI(model=\"gemini-2.0-flash\",temperature=0)\n",
        "    | StrOutputParser()\n",
        ")\n",
        "\n",
        "chain.invoke({\"question\": question})"
      ]
    },
    {
      "cell_type": "markdown",
      "id": "63d0e558-4abe-42e4-a33a-2b93692f5fab",
      "metadata": {
        "id": "63d0e558-4abe-42e4-a33a-2b93692f5fab"
      },
      "source": [
        "## Part 9: HyDE\n",
        "Docs:\n",
        "\n",
        "* https://github.com/langchain-ai/langchain/blob/master/cookbook/hypothetical_document_embeddings.ipynb\n",
        "\n",
        "Paper:\n",
        "\n",
        "* https://arxiv.org/abs/2212.10496"
      ]
    },
    {
      "cell_type": "code",
      "execution_count": 27,
      "id": "c2902575-bbbb-41a9-835b-9a24dc08261b",
      "metadata": {
        "colab": {
          "base_uri": "https://localhost:8080/",
          "height": 128
        },
        "id": "c2902575-bbbb-41a9-835b-9a24dc08261b",
        "outputId": "2f1e73b6-34ac-4023-9c8f-d3944511033c"
      },
      "outputs": [
        {
          "output_type": "execute_result",
          "data": {
            "text/plain": [
              "\"## Task Decomposition in Large Language Model Agents: A Critical Overview\\n\\nTask decomposition is a fundamental cognitive process that involves breaking down a complex, high-level goal into a series of smaller, more manageable sub-tasks. In the context of Large Language Model (LLM) agents, task decomposition refers to the process of partitioning a user's initial request or objective into a sequence of actionable steps that the agent can execute, often leveraging external tools or APIs. This decomposition is crucial for enabling LLM agents to tackle intricate problems that require reasoning, planning, and interaction with the environment.\\n\\nThe effectiveness of task decomposition directly impacts the overall performance of the LLM agent. A well-decomposed task sequence allows the agent to: (1) systematically explore the problem space, (2) leverage specialized tools for specific sub-tasks, (3) maintain a coherent plan towards achieving the final goal, and (4) recover from errors or unexpected outcomes by adjusting subsequent steps. Conversely, poor decomposition can lead to inefficient exploration, reliance on the LLM's inherent limitations, and ultimately, failure to achieve the desired outcome.\\n\\nSeveral strategies exist for implementing task decomposition in LLM agents, including:\\n\\n*   **Chain-of-Thought (CoT) prompting:** This technique encourages the LLM to explicitly articulate its reasoning process, effectively decomposing the task into a series of logical steps.\\n*   **Tree of Thoughts (ToT):** An extension of CoT, ToT allows the agent to explore multiple potential decomposition paths in parallel, enabling more robust and flexible problem-solving.\\n*   **Plan-and-Execute:** This approach involves explicitly generating a plan outlining the sequence of actions before executing them, providing a structured framework for task completion.\\n*   **Tool-Augmented Decomposition:** This strategy leverages external tools and APIs to handle specific sub-tasks, allowing the LLM to focus on higher-level reasoning and coordination.\\n\\nIn summary, task decomposition is a critical component of LLM agent design, enabling these agents to tackle complex problems by breaking them down into manageable steps. The choice of decomposition strategy depends on the complexity of the task, the available tools, and the desired level of robustness and flexibility. Future research should focus on developing more sophisticated and adaptive decomposition techniques to further enhance the capabilities of LLM agents.\""
            ],
            "application/vnd.google.colaboratory.intrinsic+json": {
              "type": "string"
            }
          },
          "metadata": {},
          "execution_count": 27
        }
      ],
      "source": [
        "from langchain.prompts import ChatPromptTemplate\n",
        "\n",
        "# HyDE document genration\n",
        "template = \"\"\"Please write a scientific paper passage to answer the question\n",
        "Question: {question}\n",
        "Passage:\"\"\"\n",
        "prompt_hyde = ChatPromptTemplate.from_template(template)\n",
        "\n",
        "from langchain_core.output_parsers import StrOutputParser\n",
        "from langchain_google_genai import ChatGoogleGenerativeAI\n",
        "\n",
        "generate_docs_for_retrieval = (\n",
        "    prompt_hyde | ChatGoogleGenerativeAI(model=\"gemini-2.0-flash\",temperature=0) | StrOutputParser()\n",
        ")\n",
        "\n",
        "# Run\n",
        "question = \"What is task decomposition for LLM agents?\"\n",
        "generate_docs_for_retrieval.invoke({\"question\":question})"
      ]
    },
    {
      "cell_type": "code",
      "execution_count": 28,
      "id": "d47587bb-23db-42a0-b087-beef9e95308b",
      "metadata": {
        "colab": {
          "base_uri": "https://localhost:8080/"
        },
        "id": "d47587bb-23db-42a0-b087-beef9e95308b",
        "outputId": "2c04c8af-5da7-4a90-d476-ce5795525094"
      },
      "outputs": [
        {
          "output_type": "execute_result",
          "data": {
            "text/plain": [
              "[Document(metadata={'source': 'https://lilianweng.github.io/posts/2023-06-23-agent/', 'type': 'html'}, page_content='Chain of thought (CoT; Wei et al. 2022 ) has become a standard prompting technique for enhancing model performance on complex tasks. The model is instructed to “think step by step” to utilize more test-time computation to decompose hard tasks into smaller and simpler steps. CoT transforms big tasks into multiple manageable tasks and shed lights into an interpretation of the model’s thinking process.\\nTree of Thoughts ( Yao et al. 2023 ) extends CoT by exploring multiple reasoning possibilities at each step. It first decomposes the problem into multiple thought steps and generates multiple thoughts per step, creating a tree structure. The search process can be BFS (breadth-first search) or DFS (depth-first search) with each state evaluated by a classifier (via a prompt) or majority vote.\\nTask decomposition can be done (1) by LLM with simple prompting like \"Steps for XYZ.\\\\n1.\" , \"What are the subgoals for achieving XYZ?\" , (2) by using task-specific instructions; e.g. \"Write a story outline.\" for writing a novel, or (3) with human inputs.'),\n",
              " Document(metadata={'source': 'https://lilianweng.github.io/posts/2023-06-23-agent/', 'type': 'html'}, page_content='# Agent System Overview #\\n\\nIn a LLM-powered autonomous agent system, LLM functions as the agent’s brain, complemented by several key components:\\n- Planning Subgoal and decomposition: The agent breaks down large tasks into smaller, manageable subgoals, enabling efficient handling of complex tasks. Reflection and refinement: The agent can do self-criticism and self-reflection over past actions, learn from mistakes and refine them for future steps, thereby improving the quality of final results.\\n- Memory Short-term memory: I would consider all the in-context learning (See Prompt Engineering ) as utilizing short-term memory of the model to learn. Long-term memory: This provides the agent with the capability to retain and recall (infinite) information over extended periods, often by leveraging an external vector store and fast retrieval.\\n- Tool use The agent learns to call external APIs for extra information that is missing from the model weights (often hard to change after pre-training), including current information, code execution capability, access to proprietary information sources and more.\\nOverview of a LLM-powered autonomous agent system.\\n\\n# Component One: Planning #\\n\\nA complicated task usually involves many steps. An agent needs to know what they are and plan ahead.\\n\\n## Task Decomposition #'),\n",
              " Document(metadata={'type': 'html', 'source': 'https://lilianweng.github.io/posts/2023-06-23-agent/'}, page_content='# LLM Powered Autonomous Agents\\n\\nDate: June 23, 2023 | Estimated Reading Time: 31 min | Author: Lilian Weng\\nTable of Contents\\n- Agent System Overview\\n- Component One: Planning Task Decomposition Self-Reflection\\n- Component Two: Memory Types of Memory Maximum Inner Product Search (MIPS)\\n- Component Three: Tool Use\\n- Case Studies Scientific Discovery Agent Generative Agents Simulation Proof-of-Concept Examples\\nBuilding agents with LLM (large language model) as its core controller is a cool concept. Several proof-of-concepts demos, such as AutoGPT , GPT-Engineer and BabyAGI , serve as inspiring examples. The potentiality of LLM extends beyond generating well-written copies, stories, essays and programs; it can be framed as a powerful general problem solver.\\n\\n# Agent System Overview #'),\n",
              " Document(metadata={'type': 'html', 'source': 'https://lilianweng.github.io/posts/2023-06-23-agent/'}, page_content='[1] Wei et al. “Chain of thought prompting elicits reasoning in large language models.” NeurIPS 2022\\n[2] Yao et al. “Tree of Thoughts: Dliberate Problem Solving with Large Language Models.” arXiv preprint arXiv:2305.10601 (2023).\\n[3] Liu et al. “Chain of Hindsight Aligns Language Models with Feedback\\n“ arXiv preprint arXiv:2302.02676 (2023).\\n[4] Liu et al. “LLM+P: Empowering Large Language Models with Optimal Planning Proficiency” arXiv preprint arXiv:2304.11477 (2023).\\n[5] Yao et al. “ReAct: Synergizing reasoning and acting in language models.” ICLR 2023.\\n[6] Google Blog. “Announcing ScaNN: Efficient Vector Similarity Search” July 28, 2020.\\n[7] https://chat.openai.com/share/46ff149e-a4c7-4dd7-a800-fc4a642ea389')]"
            ]
          },
          "metadata": {},
          "execution_count": 28
        }
      ],
      "source": [
        "# Retrieve\n",
        "retrieval_chain = generate_docs_for_retrieval | retriever\n",
        "retireved_docs = retrieval_chain.invoke({\"question\":question})\n",
        "retireved_docs"
      ]
    },
    {
      "cell_type": "code",
      "execution_count": 29,
      "id": "604fcc36-a1d7-4096-99b5-50db30950fc5",
      "metadata": {
        "colab": {
          "base_uri": "https://localhost:8080/",
          "height": 73
        },
        "id": "604fcc36-a1d7-4096-99b5-50db30950fc5",
        "outputId": "4292d30e-1e54-417a-f091-7374833932b4"
      },
      "outputs": [
        {
          "output_type": "execute_result",
          "data": {
            "text/plain": [
              "'Task decomposition for LLM agents is the process of breaking down large tasks into smaller, more manageable subgoals. This enables the agent to handle complex tasks more efficiently. Task decomposition can be done by:\\n\\n1.  LLM with simple prompting (e.g., \"Steps for XYZ. 1.\", \"What are the subgoals for achieving XYZ?\")\\n2.  Using task-specific instructions (e.g., \"Write a story outline.\" for writing a novel)\\n3.  With human inputs.'"
            ],
            "application/vnd.google.colaboratory.intrinsic+json": {
              "type": "string"
            }
          },
          "metadata": {},
          "execution_count": 29
        }
      ],
      "source": [
        "# RAG\n",
        "template = \"\"\"Answer the following question based on this context:\n",
        "\n",
        "{context}\n",
        "\n",
        "Question: {question}\n",
        "\"\"\"\n",
        "\n",
        "prompt = ChatPromptTemplate.from_template(template)\n",
        "\n",
        "final_rag_chain = (\n",
        "    prompt\n",
        "    | llm\n",
        "    | StrOutputParser()\n",
        ")\n",
        "\n",
        "final_rag_chain.invoke({\"context\":retireved_docs,\"question\":question})"
      ]
    },
    {
      "cell_type": "code",
      "execution_count": null,
      "id": "270dbd23-6f16-4827-a401-75889f0e3506",
      "metadata": {
        "id": "270dbd23-6f16-4827-a401-75889f0e3506"
      },
      "outputs": [],
      "source": []
    }
  ],
  "metadata": {
    "kernelspec": {
      "display_name": "Python 3 (ipykernel)",
      "language": "python",
      "name": "python3"
    },
    "language_info": {
      "codemirror_mode": {
        "name": "ipython",
        "version": 3
      },
      "file_extension": ".py",
      "mimetype": "text/x-python",
      "name": "python",
      "nbconvert_exporter": "python",
      "pygments_lexer": "ipython3",
      "version": "3.11.8"
    },
    "colab": {
      "provenance": []
    }
  },
  "nbformat": 4,
  "nbformat_minor": 5
}